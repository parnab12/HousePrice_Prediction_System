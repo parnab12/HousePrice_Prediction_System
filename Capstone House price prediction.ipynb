{
 "cells": [
  {
   "cell_type": "markdown",
   "id": "84a82632",
   "metadata": {},
   "source": [
    "# Importing Neccesary Libraries"
   ]
  },
  {
   "cell_type": "code",
   "execution_count": 1,
   "id": "6dd3ab96",
   "metadata": {},
   "outputs": [],
   "source": [
    "import pandas as pd\n",
    "import numpy as np\n",
    "import matplotlib.pyplot as plt\n",
    "import seaborn as sns\n",
    "from sklearn.model_selection import train_test_split\n",
    "from sklearn.linear_model import LinearRegression\n",
    "from xgboost import XGBRegressor \n",
    "from sklearn.tree import DecisionTreeRegressor\n",
    "from sklearn.neighbors import KNeighborsRegressor\n",
    "from sklearn.ensemble import RandomForestRegressor\n",
    "from sklearn import metrics"
   ]
  },
  {
   "cell_type": "code",
   "execution_count": 2,
   "id": "8aeb2b45",
   "metadata": {},
   "outputs": [],
   "source": [
    "# Suppressing Warnings\n",
    "import warnings\n",
    "warnings.filterwarnings('ignore')"
   ]
  },
  {
   "cell_type": "code",
   "execution_count": 3,
   "id": "398093b9",
   "metadata": {},
   "outputs": [],
   "source": [
    "#loading the datasets\n",
    "data = pd.read_csv(\"Data.csv\")"
   ]
  },
  {
   "cell_type": "markdown",
   "id": "af137986",
   "metadata": {},
   "source": [
    "# Inspecting the Dataframe"
   ]
  },
  {
   "cell_type": "code",
   "execution_count": 4,
   "id": "becb6432",
   "metadata": {},
   "outputs": [
    {
     "data": {
      "text/html": [
       "<div>\n",
       "<style scoped>\n",
       "    .dataframe tbody tr th:only-of-type {\n",
       "        vertical-align: middle;\n",
       "    }\n",
       "\n",
       "    .dataframe tbody tr th {\n",
       "        vertical-align: top;\n",
       "    }\n",
       "\n",
       "    .dataframe thead th {\n",
       "        text-align: right;\n",
       "    }\n",
       "</style>\n",
       "<table border=\"1\" class=\"dataframe\">\n",
       "  <thead>\n",
       "    <tr style=\"text-align: right;\">\n",
       "      <th></th>\n",
       "      <th>Area</th>\n",
       "      <th>BHK</th>\n",
       "      <th>Bathroom</th>\n",
       "      <th>Furnishing</th>\n",
       "      <th>Locality</th>\n",
       "      <th>Parking</th>\n",
       "      <th>Price</th>\n",
       "      <th>Status</th>\n",
       "      <th>Transaction</th>\n",
       "      <th>Type</th>\n",
       "      <th>Per_Sqft</th>\n",
       "    </tr>\n",
       "  </thead>\n",
       "  <tbody>\n",
       "    <tr>\n",
       "      <th>0</th>\n",
       "      <td>800.0</td>\n",
       "      <td>3</td>\n",
       "      <td>2.0</td>\n",
       "      <td>Semi-Furnished</td>\n",
       "      <td>Rohini Sector 25</td>\n",
       "      <td>1.0</td>\n",
       "      <td>6500000</td>\n",
       "      <td>Ready_to_move</td>\n",
       "      <td>New_Property</td>\n",
       "      <td>Builder_Floor</td>\n",
       "      <td>NaN</td>\n",
       "    </tr>\n",
       "    <tr>\n",
       "      <th>1</th>\n",
       "      <td>750.0</td>\n",
       "      <td>2</td>\n",
       "      <td>2.0</td>\n",
       "      <td>Semi-Furnished</td>\n",
       "      <td>J R Designers Floors, Rohini Sector 24</td>\n",
       "      <td>1.0</td>\n",
       "      <td>5000000</td>\n",
       "      <td>Ready_to_move</td>\n",
       "      <td>New_Property</td>\n",
       "      <td>Apartment</td>\n",
       "      <td>6667.0</td>\n",
       "    </tr>\n",
       "    <tr>\n",
       "      <th>2</th>\n",
       "      <td>950.0</td>\n",
       "      <td>2</td>\n",
       "      <td>2.0</td>\n",
       "      <td>Furnished</td>\n",
       "      <td>Citizen Apartment, Rohini Sector 13</td>\n",
       "      <td>1.0</td>\n",
       "      <td>15500000</td>\n",
       "      <td>Ready_to_move</td>\n",
       "      <td>Resale</td>\n",
       "      <td>Apartment</td>\n",
       "      <td>6667.0</td>\n",
       "    </tr>\n",
       "    <tr>\n",
       "      <th>3</th>\n",
       "      <td>600.0</td>\n",
       "      <td>2</td>\n",
       "      <td>2.0</td>\n",
       "      <td>Semi-Furnished</td>\n",
       "      <td>Rohini Sector 24</td>\n",
       "      <td>1.0</td>\n",
       "      <td>4200000</td>\n",
       "      <td>Ready_to_move</td>\n",
       "      <td>Resale</td>\n",
       "      <td>Builder_Floor</td>\n",
       "      <td>6667.0</td>\n",
       "    </tr>\n",
       "    <tr>\n",
       "      <th>4</th>\n",
       "      <td>650.0</td>\n",
       "      <td>2</td>\n",
       "      <td>2.0</td>\n",
       "      <td>Semi-Furnished</td>\n",
       "      <td>Rohini Sector 24 carpet area 650 sqft status R...</td>\n",
       "      <td>1.0</td>\n",
       "      <td>6200000</td>\n",
       "      <td>Ready_to_move</td>\n",
       "      <td>New_Property</td>\n",
       "      <td>Builder_Floor</td>\n",
       "      <td>6667.0</td>\n",
       "    </tr>\n",
       "  </tbody>\n",
       "</table>\n",
       "</div>"
      ],
      "text/plain": [
       "    Area  BHK  Bathroom      Furnishing  \\\n",
       "0  800.0    3       2.0  Semi-Furnished   \n",
       "1  750.0    2       2.0  Semi-Furnished   \n",
       "2  950.0    2       2.0       Furnished   \n",
       "3  600.0    2       2.0  Semi-Furnished   \n",
       "4  650.0    2       2.0  Semi-Furnished   \n",
       "\n",
       "                                            Locality  Parking     Price  \\\n",
       "0                                   Rohini Sector 25      1.0   6500000   \n",
       "1             J R Designers Floors, Rohini Sector 24      1.0   5000000   \n",
       "2                Citizen Apartment, Rohini Sector 13      1.0  15500000   \n",
       "3                                   Rohini Sector 24      1.0   4200000   \n",
       "4  Rohini Sector 24 carpet area 650 sqft status R...      1.0   6200000   \n",
       "\n",
       "          Status   Transaction           Type  Per_Sqft  \n",
       "0  Ready_to_move  New_Property  Builder_Floor       NaN  \n",
       "1  Ready_to_move  New_Property      Apartment    6667.0  \n",
       "2  Ready_to_move        Resale      Apartment    6667.0  \n",
       "3  Ready_to_move        Resale  Builder_Floor    6667.0  \n",
       "4  Ready_to_move  New_Property  Builder_Floor    6667.0  "
      ]
     },
     "execution_count": 4,
     "metadata": {},
     "output_type": "execute_result"
    }
   ],
   "source": [
    "data.head()"
   ]
  },
  {
   "cell_type": "code",
   "execution_count": 5,
   "id": "195f4c18",
   "metadata": {},
   "outputs": [
    {
     "data": {
      "text/html": [
       "<div>\n",
       "<style scoped>\n",
       "    .dataframe tbody tr th:only-of-type {\n",
       "        vertical-align: middle;\n",
       "    }\n",
       "\n",
       "    .dataframe tbody tr th {\n",
       "        vertical-align: top;\n",
       "    }\n",
       "\n",
       "    .dataframe thead th {\n",
       "        text-align: right;\n",
       "    }\n",
       "</style>\n",
       "<table border=\"1\" class=\"dataframe\">\n",
       "  <thead>\n",
       "    <tr style=\"text-align: right;\">\n",
       "      <th></th>\n",
       "      <th>Area</th>\n",
       "      <th>BHK</th>\n",
       "      <th>Bathroom</th>\n",
       "      <th>Parking</th>\n",
       "      <th>Price</th>\n",
       "      <th>Per_Sqft</th>\n",
       "    </tr>\n",
       "  </thead>\n",
       "  <tbody>\n",
       "    <tr>\n",
       "      <th>count</th>\n",
       "      <td>1259.000000</td>\n",
       "      <td>1259.000000</td>\n",
       "      <td>1257.000000</td>\n",
       "      <td>1226.000000</td>\n",
       "      <td>1.259000e+03</td>\n",
       "      <td>1018.000000</td>\n",
       "    </tr>\n",
       "    <tr>\n",
       "      <th>mean</th>\n",
       "      <td>1466.452724</td>\n",
       "      <td>2.796664</td>\n",
       "      <td>2.556086</td>\n",
       "      <td>1.935563</td>\n",
       "      <td>2.130670e+07</td>\n",
       "      <td>15690.136542</td>\n",
       "    </tr>\n",
       "    <tr>\n",
       "      <th>std</th>\n",
       "      <td>1568.055040</td>\n",
       "      <td>0.954425</td>\n",
       "      <td>1.042220</td>\n",
       "      <td>6.279212</td>\n",
       "      <td>2.560115e+07</td>\n",
       "      <td>21134.738568</td>\n",
       "    </tr>\n",
       "    <tr>\n",
       "      <th>min</th>\n",
       "      <td>28.000000</td>\n",
       "      <td>1.000000</td>\n",
       "      <td>1.000000</td>\n",
       "      <td>1.000000</td>\n",
       "      <td>1.000000e+06</td>\n",
       "      <td>1259.000000</td>\n",
       "    </tr>\n",
       "    <tr>\n",
       "      <th>25%</th>\n",
       "      <td>800.000000</td>\n",
       "      <td>2.000000</td>\n",
       "      <td>2.000000</td>\n",
       "      <td>1.000000</td>\n",
       "      <td>5.700000e+06</td>\n",
       "      <td>6364.000000</td>\n",
       "    </tr>\n",
       "    <tr>\n",
       "      <th>50%</th>\n",
       "      <td>1200.000000</td>\n",
       "      <td>3.000000</td>\n",
       "      <td>2.000000</td>\n",
       "      <td>1.000000</td>\n",
       "      <td>1.420000e+07</td>\n",
       "      <td>11291.500000</td>\n",
       "    </tr>\n",
       "    <tr>\n",
       "      <th>75%</th>\n",
       "      <td>1700.000000</td>\n",
       "      <td>3.000000</td>\n",
       "      <td>3.000000</td>\n",
       "      <td>2.000000</td>\n",
       "      <td>2.550000e+07</td>\n",
       "      <td>18000.000000</td>\n",
       "    </tr>\n",
       "    <tr>\n",
       "      <th>max</th>\n",
       "      <td>24300.000000</td>\n",
       "      <td>10.000000</td>\n",
       "      <td>7.000000</td>\n",
       "      <td>114.000000</td>\n",
       "      <td>2.400000e+08</td>\n",
       "      <td>183333.000000</td>\n",
       "    </tr>\n",
       "  </tbody>\n",
       "</table>\n",
       "</div>"
      ],
      "text/plain": [
       "               Area          BHK     Bathroom      Parking         Price  \\\n",
       "count   1259.000000  1259.000000  1257.000000  1226.000000  1.259000e+03   \n",
       "mean    1466.452724     2.796664     2.556086     1.935563  2.130670e+07   \n",
       "std     1568.055040     0.954425     1.042220     6.279212  2.560115e+07   \n",
       "min       28.000000     1.000000     1.000000     1.000000  1.000000e+06   \n",
       "25%      800.000000     2.000000     2.000000     1.000000  5.700000e+06   \n",
       "50%     1200.000000     3.000000     2.000000     1.000000  1.420000e+07   \n",
       "75%     1700.000000     3.000000     3.000000     2.000000  2.550000e+07   \n",
       "max    24300.000000    10.000000     7.000000   114.000000  2.400000e+08   \n",
       "\n",
       "            Per_Sqft  \n",
       "count    1018.000000  \n",
       "mean    15690.136542  \n",
       "std     21134.738568  \n",
       "min      1259.000000  \n",
       "25%      6364.000000  \n",
       "50%     11291.500000  \n",
       "75%     18000.000000  \n",
       "max    183333.000000  "
      ]
     },
     "execution_count": 5,
     "metadata": {},
     "output_type": "execute_result"
    }
   ],
   "source": [
    "# Describing the dataset\n",
    "data.describe()"
   ]
  },
  {
   "cell_type": "code",
   "execution_count": 6,
   "id": "7c9ed373",
   "metadata": {},
   "outputs": [
    {
     "data": {
      "text/plain": [
       "(1259, 11)"
      ]
     },
     "execution_count": 6,
     "metadata": {},
     "output_type": "execute_result"
    }
   ],
   "source": [
    "data.shape"
   ]
  },
  {
   "cell_type": "code",
   "execution_count": 7,
   "id": "23762b8b",
   "metadata": {},
   "outputs": [
    {
     "name": "stdout",
     "output_type": "stream",
     "text": [
      "<class 'pandas.core.frame.DataFrame'>\n",
      "RangeIndex: 1259 entries, 0 to 1258\n",
      "Data columns (total 11 columns):\n",
      " #   Column       Non-Null Count  Dtype  \n",
      "---  ------       --------------  -----  \n",
      " 0   Area         1259 non-null   float64\n",
      " 1   BHK          1259 non-null   int64  \n",
      " 2   Bathroom     1257 non-null   float64\n",
      " 3   Furnishing   1254 non-null   object \n",
      " 4   Locality     1259 non-null   object \n",
      " 5   Parking      1226 non-null   float64\n",
      " 6   Price        1259 non-null   int64  \n",
      " 7   Status       1259 non-null   object \n",
      " 8   Transaction  1259 non-null   object \n",
      " 9   Type         1254 non-null   object \n",
      " 10  Per_Sqft     1018 non-null   float64\n",
      "dtypes: float64(4), int64(2), object(5)\n",
      "memory usage: 108.3+ KB\n"
     ]
    }
   ],
   "source": [
    "# Information about Each Column\n",
    "data.info()"
   ]
  },
  {
   "cell_type": "markdown",
   "id": "42e32c29",
   "metadata": {},
   "source": [
    "# Handling Null Values"
   ]
  },
  {
   "cell_type": "code",
   "execution_count": 8,
   "id": "f5ac2bc2",
   "metadata": {
    "scrolled": true
   },
   "outputs": [
    {
     "data": {
      "text/plain": [
       "Area             0\n",
       "BHK              0\n",
       "Bathroom         2\n",
       "Furnishing       5\n",
       "Locality         0\n",
       "Parking         33\n",
       "Price            0\n",
       "Status           0\n",
       "Transaction      0\n",
       "Type             5\n",
       "Per_Sqft       241\n",
       "dtype: int64"
      ]
     },
     "execution_count": 8,
     "metadata": {},
     "output_type": "execute_result"
    }
   ],
   "source": [
    "data.isnull().sum()"
   ]
  },
  {
   "cell_type": "code",
   "execution_count": 9,
   "id": "87e613e3",
   "metadata": {},
   "outputs": [
    {
     "data": {
      "text/plain": [
       "83"
      ]
     },
     "execution_count": 9,
     "metadata": {},
     "output_type": "execute_result"
    }
   ],
   "source": [
    "data.duplicated().sum()"
   ]
  },
  {
   "cell_type": "code",
   "execution_count": 10,
   "id": "af5e48cb",
   "metadata": {},
   "outputs": [],
   "source": [
    "data=data.drop_duplicates()"
   ]
  },
  {
   "cell_type": "code",
   "execution_count": 11,
   "id": "0419fab8",
   "metadata": {},
   "outputs": [
    {
     "data": {
      "text/plain": [
       "0"
      ]
     },
     "execution_count": 11,
     "metadata": {},
     "output_type": "execute_result"
    }
   ],
   "source": [
    "data.duplicated().sum()"
   ]
  },
  {
   "cell_type": "code",
   "execution_count": 12,
   "id": "48335d79",
   "metadata": {},
   "outputs": [
    {
     "data": {
      "text/plain": [
       "(1176, 11)"
      ]
     },
     "execution_count": 12,
     "metadata": {},
     "output_type": "execute_result"
    }
   ],
   "source": [
    "data.shape"
   ]
  },
  {
   "cell_type": "code",
   "execution_count": 13,
   "id": "49d6c8a1",
   "metadata": {},
   "outputs": [],
   "source": [
    "#Dropping the unwanted column\n",
    "data = data.drop(['Locality'], axis = 1)"
   ]
  },
  {
   "cell_type": "code",
   "execution_count": 14,
   "id": "436b9323",
   "metadata": {},
   "outputs": [
    {
     "data": {
      "text/plain": [
       "11111.0"
      ]
     },
     "execution_count": 14,
     "metadata": {},
     "output_type": "execute_result"
    }
   ],
   "source": [
    "#Findinng the median value\n",
    "med = data['Per_Sqft'].median()\n",
    "med"
   ]
  },
  {
   "cell_type": "code",
   "execution_count": 15,
   "id": "e2c3a3d4",
   "metadata": {},
   "outputs": [
    {
     "data": {
      "text/plain": [
       "2.0"
      ]
     },
     "execution_count": 15,
     "metadata": {},
     "output_type": "execute_result"
    }
   ],
   "source": [
    "mn = data['Parking'].mean()\n",
    "mnd= mn.round()\n",
    "mnd"
   ]
  },
  {
   "cell_type": "code",
   "execution_count": 16,
   "id": "88654524",
   "metadata": {},
   "outputs": [],
   "source": [
    "#filling the null values with median\n",
    "data['Parking'].fillna(mnd,inplace=True)"
   ]
  },
  {
   "cell_type": "code",
   "execution_count": 17,
   "id": "5083e7a3",
   "metadata": {},
   "outputs": [],
   "source": [
    "#filling the null values with median\n",
    "data['Per_Sqft'].fillna(med,inplace=True)"
   ]
  },
  {
   "cell_type": "code",
   "execution_count": 18,
   "id": "482a5fd6",
   "metadata": {},
   "outputs": [
    {
     "data": {
      "text/plain": [
       "Area           0\n",
       "BHK            0\n",
       "Bathroom       1\n",
       "Furnishing     5\n",
       "Parking        0\n",
       "Price          0\n",
       "Status         0\n",
       "Transaction    0\n",
       "Type           5\n",
       "Per_Sqft       0\n",
       "dtype: int64"
      ]
     },
     "execution_count": 18,
     "metadata": {},
     "output_type": "execute_result"
    }
   ],
   "source": [
    "data.isnull().sum()"
   ]
  },
  {
   "cell_type": "code",
   "execution_count": 19,
   "id": "c7ef64b3",
   "metadata": {},
   "outputs": [],
   "source": [
    "data= data.dropna()"
   ]
  },
  {
   "cell_type": "markdown",
   "id": "7cd2ebe2",
   "metadata": {},
   "source": [
    "# Checking for outliers"
   ]
  },
  {
   "cell_type": "code",
   "execution_count": 20,
   "id": "93000aab",
   "metadata": {},
   "outputs": [
    {
     "data": {
      "image/png": "[encoded data removed]",
      "text/plain": [
       "<Figure size 800x600 with 1 Axes>"
      ]
     },
     "metadata": {},
     "output_type": "display_data"
    }
   ],
   "source": [
    "#finding outlier of parking column by using box plot\n",
    "plt.figure(figsize=(8, 6))\n",
    "plt.boxplot(data['Parking'])\n",
    "plt.title('Box Plot of Data')\n",
    "plt.ylabel('Values')\n",
    "plt.show()"
   ]
  },
  {
   "cell_type": "code",
   "execution_count": 21,
   "id": "c32c2f7d",
   "metadata": {},
   "outputs": [
    {
     "data": {
      "image/png": "[encoded data removed]",
      "text/plain": [
       "<Figure size 800x600 with 1 Axes>"
      ]
     },
     "metadata": {},
     "output_type": "display_data"
    }
   ],
   "source": [
    "# finding outlier of per sqft column by using box plot\n",
    "plt.figure(figsize=(8, 6))\n",
    "plt.boxplot(data['Per_Sqft'])\n",
    "plt.title('Box Plot of Data')\n",
    "plt.ylabel('Values')\n",
    "plt.show()"
   ]
  },
  {
   "cell_type": "code",
   "execution_count": 22,
   "id": "75488d1a",
   "metadata": {},
   "outputs": [
    {
     "data": {
      "text/plain": [
       "5.928729277951391"
      ]
     },
     "execution_count": 22,
     "metadata": {},
     "output_type": "execute_result"
    }
   ],
   "source": [
    "data.Per_Sqft.skew()"
   ]
  },
  {
   "cell_type": "markdown",
   "id": "f0cf5f35",
   "metadata": {},
   "source": [
    "# Finding z_score values"
   ]
  },
  {
   "cell_type": "code",
   "execution_count": 23,
   "id": "4340474c",
   "metadata": {},
   "outputs": [
    {
     "data": {
      "text/plain": [
       "0       0.152615\n",
       "1       0.152615\n",
       "2       0.152615\n",
       "3       0.152615\n",
       "4       0.152615\n",
       "          ...   \n",
       "1254    0.158735\n",
       "1255    0.158735\n",
       "1256    0.158735\n",
       "1257    0.152615\n",
       "1258    0.152615\n",
       "Name: Parking, Length: 1170, dtype: float64"
      ]
     },
     "execution_count": 23,
     "metadata": {},
     "output_type": "execute_result"
    }
   ],
   "source": [
    "z_p=np.abs((data[\"Parking\"]-data[\"Parking\"].mean())/data[\"Parking\"].std())\n",
    "z_p"
   ]
  },
  {
   "cell_type": "code",
   "execution_count": 24,
   "id": "e99cee50",
   "metadata": {},
   "outputs": [
    {
     "data": {
      "text/plain": [
       "count    1170.000000\n",
       "mean        0.192008\n",
       "std         0.981377\n",
       "min         0.003060\n",
       "25%         0.003060\n",
       "50%         0.152615\n",
       "75%         0.152615\n",
       "max        17.438671\n",
       "Name: Parking, dtype: float64"
      ]
     },
     "execution_count": 24,
     "metadata": {},
     "output_type": "execute_result"
    }
   ],
   "source": [
    "z_p.describe()"
   ]
  },
  {
   "cell_type": "code",
   "execution_count": 25,
   "id": "c59ee9e3",
   "metadata": {},
   "outputs": [
    {
     "data": {
      "text/html": [
       "<div>\n",
       "<style scoped>\n",
       "    .dataframe tbody tr th:only-of-type {\n",
       "        vertical-align: middle;\n",
       "    }\n",
       "\n",
       "    .dataframe tbody tr th {\n",
       "        vertical-align: top;\n",
       "    }\n",
       "\n",
       "    .dataframe thead th {\n",
       "        text-align: right;\n",
       "    }\n",
       "</style>\n",
       "<table border=\"1\" class=\"dataframe\">\n",
       "  <thead>\n",
       "    <tr style=\"text-align: right;\">\n",
       "      <th></th>\n",
       "      <th>Area</th>\n",
       "      <th>BHK</th>\n",
       "      <th>Bathroom</th>\n",
       "      <th>Furnishing</th>\n",
       "      <th>Parking</th>\n",
       "      <th>Price</th>\n",
       "      <th>Status</th>\n",
       "      <th>Transaction</th>\n",
       "      <th>Type</th>\n",
       "      <th>Per_Sqft</th>\n",
       "    </tr>\n",
       "  </thead>\n",
       "  <tbody>\n",
       "    <tr>\n",
       "      <th>0</th>\n",
       "      <td>800.0</td>\n",
       "      <td>3</td>\n",
       "      <td>2.0</td>\n",
       "      <td>Semi-Furnished</td>\n",
       "      <td>1.0</td>\n",
       "      <td>6500000</td>\n",
       "      <td>Ready_to_move</td>\n",
       "      <td>New_Property</td>\n",
       "      <td>Builder_Floor</td>\n",
       "      <td>11111.0</td>\n",
       "    </tr>\n",
       "    <tr>\n",
       "      <th>1</th>\n",
       "      <td>750.0</td>\n",
       "      <td>2</td>\n",
       "      <td>2.0</td>\n",
       "      <td>Semi-Furnished</td>\n",
       "      <td>1.0</td>\n",
       "      <td>5000000</td>\n",
       "      <td>Ready_to_move</td>\n",
       "      <td>New_Property</td>\n",
       "      <td>Apartment</td>\n",
       "      <td>6667.0</td>\n",
       "    </tr>\n",
       "    <tr>\n",
       "      <th>2</th>\n",
       "      <td>950.0</td>\n",
       "      <td>2</td>\n",
       "      <td>2.0</td>\n",
       "      <td>Furnished</td>\n",
       "      <td>1.0</td>\n",
       "      <td>15500000</td>\n",
       "      <td>Ready_to_move</td>\n",
       "      <td>Resale</td>\n",
       "      <td>Apartment</td>\n",
       "      <td>6667.0</td>\n",
       "    </tr>\n",
       "    <tr>\n",
       "      <th>3</th>\n",
       "      <td>600.0</td>\n",
       "      <td>2</td>\n",
       "      <td>2.0</td>\n",
       "      <td>Semi-Furnished</td>\n",
       "      <td>1.0</td>\n",
       "      <td>4200000</td>\n",
       "      <td>Ready_to_move</td>\n",
       "      <td>Resale</td>\n",
       "      <td>Builder_Floor</td>\n",
       "      <td>6667.0</td>\n",
       "    </tr>\n",
       "    <tr>\n",
       "      <th>4</th>\n",
       "      <td>650.0</td>\n",
       "      <td>2</td>\n",
       "      <td>2.0</td>\n",
       "      <td>Semi-Furnished</td>\n",
       "      <td>1.0</td>\n",
       "      <td>6200000</td>\n",
       "      <td>Ready_to_move</td>\n",
       "      <td>New_Property</td>\n",
       "      <td>Builder_Floor</td>\n",
       "      <td>6667.0</td>\n",
       "    </tr>\n",
       "    <tr>\n",
       "      <th>...</th>\n",
       "      <td>...</td>\n",
       "      <td>...</td>\n",
       "      <td>...</td>\n",
       "      <td>...</td>\n",
       "      <td>...</td>\n",
       "      <td>...</td>\n",
       "      <td>...</td>\n",
       "      <td>...</td>\n",
       "      <td>...</td>\n",
       "      <td>...</td>\n",
       "    </tr>\n",
       "    <tr>\n",
       "      <th>1254</th>\n",
       "      <td>4118.0</td>\n",
       "      <td>4</td>\n",
       "      <td>5.0</td>\n",
       "      <td>Unfurnished</td>\n",
       "      <td>3.0</td>\n",
       "      <td>55000000</td>\n",
       "      <td>Ready_to_move</td>\n",
       "      <td>New_Property</td>\n",
       "      <td>Builder_Floor</td>\n",
       "      <td>12916.0</td>\n",
       "    </tr>\n",
       "    <tr>\n",
       "      <th>1255</th>\n",
       "      <td>1050.0</td>\n",
       "      <td>3</td>\n",
       "      <td>2.0</td>\n",
       "      <td>Semi-Furnished</td>\n",
       "      <td>3.0</td>\n",
       "      <td>12500000</td>\n",
       "      <td>Ready_to_move</td>\n",
       "      <td>Resale</td>\n",
       "      <td>Builder_Floor</td>\n",
       "      <td>12916.0</td>\n",
       "    </tr>\n",
       "    <tr>\n",
       "      <th>1256</th>\n",
       "      <td>875.0</td>\n",
       "      <td>3</td>\n",
       "      <td>3.0</td>\n",
       "      <td>Semi-Furnished</td>\n",
       "      <td>3.0</td>\n",
       "      <td>17500000</td>\n",
       "      <td>Ready_to_move</td>\n",
       "      <td>New_Property</td>\n",
       "      <td>Builder_Floor</td>\n",
       "      <td>12916.0</td>\n",
       "    </tr>\n",
       "    <tr>\n",
       "      <th>1257</th>\n",
       "      <td>990.0</td>\n",
       "      <td>2</td>\n",
       "      <td>2.0</td>\n",
       "      <td>Unfurnished</td>\n",
       "      <td>1.0</td>\n",
       "      <td>11500000</td>\n",
       "      <td>Ready_to_move</td>\n",
       "      <td>Resale</td>\n",
       "      <td>Builder_Floor</td>\n",
       "      <td>12916.0</td>\n",
       "    </tr>\n",
       "    <tr>\n",
       "      <th>1258</th>\n",
       "      <td>11050.0</td>\n",
       "      <td>3</td>\n",
       "      <td>3.0</td>\n",
       "      <td>Unfurnished</td>\n",
       "      <td>1.0</td>\n",
       "      <td>18500000</td>\n",
       "      <td>Ready_to_move</td>\n",
       "      <td>New_Property</td>\n",
       "      <td>Builder_Floor</td>\n",
       "      <td>12916.0</td>\n",
       "    </tr>\n",
       "  </tbody>\n",
       "</table>\n",
       "<p>1158 rows × 10 columns</p>\n",
       "</div>"
      ],
      "text/plain": [
       "         Area  BHK  Bathroom      Furnishing  Parking     Price  \\\n",
       "0       800.0    3       2.0  Semi-Furnished      1.0   6500000   \n",
       "1       750.0    2       2.0  Semi-Furnished      1.0   5000000   \n",
       "2       950.0    2       2.0       Furnished      1.0  15500000   \n",
       "3       600.0    2       2.0  Semi-Furnished      1.0   4200000   \n",
       "4       650.0    2       2.0  Semi-Furnished      1.0   6200000   \n",
       "...       ...  ...       ...             ...      ...       ...   \n",
       "1254   4118.0    4       5.0     Unfurnished      3.0  55000000   \n",
       "1255   1050.0    3       2.0  Semi-Furnished      3.0  12500000   \n",
       "1256    875.0    3       3.0  Semi-Furnished      3.0  17500000   \n",
       "1257    990.0    2       2.0     Unfurnished      1.0  11500000   \n",
       "1258  11050.0    3       3.0     Unfurnished      1.0  18500000   \n",
       "\n",
       "             Status   Transaction           Type  Per_Sqft  \n",
       "0     Ready_to_move  New_Property  Builder_Floor   11111.0  \n",
       "1     Ready_to_move  New_Property      Apartment    6667.0  \n",
       "2     Ready_to_move        Resale      Apartment    6667.0  \n",
       "3     Ready_to_move        Resale  Builder_Floor    6667.0  \n",
       "4     Ready_to_move  New_Property  Builder_Floor    6667.0  \n",
       "...             ...           ...            ...       ...  \n",
       "1254  Ready_to_move  New_Property  Builder_Floor   12916.0  \n",
       "1255  Ready_to_move        Resale  Builder_Floor   12916.0  \n",
       "1256  Ready_to_move  New_Property  Builder_Floor   12916.0  \n",
       "1257  Ready_to_move        Resale  Builder_Floor   12916.0  \n",
       "1258  Ready_to_move  New_Property  Builder_Floor   12916.0  \n",
       "\n",
       "[1158 rows x 10 columns]"
      ]
     },
     "execution_count": 25,
     "metadata": {},
     "output_type": "execute_result"
    }
   ],
   "source": [
    "#Removing the outliers\n",
    "data = data[z_p<1]\n",
    "data"
   ]
  },
  {
   "cell_type": "code",
   "execution_count": 26,
   "id": "7b6a68a3",
   "metadata": {},
   "outputs": [
    {
     "data": {
      "text/plain": [
       "0       0.191321\n",
       "1       0.419902\n",
       "2       0.419902\n",
       "3       0.419902\n",
       "4       0.419902\n",
       "          ...   \n",
       "1254    0.098479\n",
       "1255    0.098479\n",
       "1256    0.098479\n",
       "1257    0.098479\n",
       "1258    0.098479\n",
       "Name: Per_Sqft, Length: 1158, dtype: float64"
      ]
     },
     "execution_count": 26,
     "metadata": {},
     "output_type": "execute_result"
    }
   ],
   "source": [
    "z_ps=np.abs((data[\"Per_Sqft\"]-data[\"Per_Sqft\"].mean())/data[\"Per_Sqft\"].std())\n",
    "z_ps"
   ]
  },
  {
   "cell_type": "code",
   "execution_count": 27,
   "id": "ac255bcc",
   "metadata": {},
   "outputs": [
    {
     "data": {
      "text/plain": [
       "count    1158.000000\n",
       "mean        0.444512\n",
       "std         0.895677\n",
       "min         0.000648\n",
       "25%         0.191321\n",
       "50%         0.294594\n",
       "75%         0.463468\n",
       "max         8.667072\n",
       "Name: Per_Sqft, dtype: float64"
      ]
     },
     "execution_count": 27,
     "metadata": {},
     "output_type": "execute_result"
    }
   ],
   "source": [
    "z_ps.describe()"
   ]
  },
  {
   "cell_type": "code",
   "execution_count": 28,
   "id": "a8547603",
   "metadata": {},
   "outputs": [
    {
     "data": {
      "text/html": [
       "<div>\n",
       "<style scoped>\n",
       "    .dataframe tbody tr th:only-of-type {\n",
       "        vertical-align: middle;\n",
       "    }\n",
       "\n",
       "    .dataframe tbody tr th {\n",
       "        vertical-align: top;\n",
       "    }\n",
       "\n",
       "    .dataframe thead th {\n",
       "        text-align: right;\n",
       "    }\n",
       "</style>\n",
       "<table border=\"1\" class=\"dataframe\">\n",
       "  <thead>\n",
       "    <tr style=\"text-align: right;\">\n",
       "      <th></th>\n",
       "      <th>Area</th>\n",
       "      <th>BHK</th>\n",
       "      <th>Bathroom</th>\n",
       "      <th>Furnishing</th>\n",
       "      <th>Parking</th>\n",
       "      <th>Price</th>\n",
       "      <th>Status</th>\n",
       "      <th>Transaction</th>\n",
       "      <th>Type</th>\n",
       "      <th>Per_Sqft</th>\n",
       "    </tr>\n",
       "  </thead>\n",
       "  <tbody>\n",
       "    <tr>\n",
       "      <th>0</th>\n",
       "      <td>800.0</td>\n",
       "      <td>3</td>\n",
       "      <td>2.0</td>\n",
       "      <td>Semi-Furnished</td>\n",
       "      <td>1.0</td>\n",
       "      <td>6500000</td>\n",
       "      <td>Ready_to_move</td>\n",
       "      <td>New_Property</td>\n",
       "      <td>Builder_Floor</td>\n",
       "      <td>11111.0</td>\n",
       "    </tr>\n",
       "    <tr>\n",
       "      <th>1</th>\n",
       "      <td>750.0</td>\n",
       "      <td>2</td>\n",
       "      <td>2.0</td>\n",
       "      <td>Semi-Furnished</td>\n",
       "      <td>1.0</td>\n",
       "      <td>5000000</td>\n",
       "      <td>Ready_to_move</td>\n",
       "      <td>New_Property</td>\n",
       "      <td>Apartment</td>\n",
       "      <td>6667.0</td>\n",
       "    </tr>\n",
       "    <tr>\n",
       "      <th>2</th>\n",
       "      <td>950.0</td>\n",
       "      <td>2</td>\n",
       "      <td>2.0</td>\n",
       "      <td>Furnished</td>\n",
       "      <td>1.0</td>\n",
       "      <td>15500000</td>\n",
       "      <td>Ready_to_move</td>\n",
       "      <td>Resale</td>\n",
       "      <td>Apartment</td>\n",
       "      <td>6667.0</td>\n",
       "    </tr>\n",
       "    <tr>\n",
       "      <th>3</th>\n",
       "      <td>600.0</td>\n",
       "      <td>2</td>\n",
       "      <td>2.0</td>\n",
       "      <td>Semi-Furnished</td>\n",
       "      <td>1.0</td>\n",
       "      <td>4200000</td>\n",
       "      <td>Ready_to_move</td>\n",
       "      <td>Resale</td>\n",
       "      <td>Builder_Floor</td>\n",
       "      <td>6667.0</td>\n",
       "    </tr>\n",
       "    <tr>\n",
       "      <th>4</th>\n",
       "      <td>650.0</td>\n",
       "      <td>2</td>\n",
       "      <td>2.0</td>\n",
       "      <td>Semi-Furnished</td>\n",
       "      <td>1.0</td>\n",
       "      <td>6200000</td>\n",
       "      <td>Ready_to_move</td>\n",
       "      <td>New_Property</td>\n",
       "      <td>Builder_Floor</td>\n",
       "      <td>6667.0</td>\n",
       "    </tr>\n",
       "    <tr>\n",
       "      <th>...</th>\n",
       "      <td>...</td>\n",
       "      <td>...</td>\n",
       "      <td>...</td>\n",
       "      <td>...</td>\n",
       "      <td>...</td>\n",
       "      <td>...</td>\n",
       "      <td>...</td>\n",
       "      <td>...</td>\n",
       "      <td>...</td>\n",
       "      <td>...</td>\n",
       "    </tr>\n",
       "    <tr>\n",
       "      <th>1254</th>\n",
       "      <td>4118.0</td>\n",
       "      <td>4</td>\n",
       "      <td>5.0</td>\n",
       "      <td>Unfurnished</td>\n",
       "      <td>3.0</td>\n",
       "      <td>55000000</td>\n",
       "      <td>Ready_to_move</td>\n",
       "      <td>New_Property</td>\n",
       "      <td>Builder_Floor</td>\n",
       "      <td>12916.0</td>\n",
       "    </tr>\n",
       "    <tr>\n",
       "      <th>1255</th>\n",
       "      <td>1050.0</td>\n",
       "      <td>3</td>\n",
       "      <td>2.0</td>\n",
       "      <td>Semi-Furnished</td>\n",
       "      <td>3.0</td>\n",
       "      <td>12500000</td>\n",
       "      <td>Ready_to_move</td>\n",
       "      <td>Resale</td>\n",
       "      <td>Builder_Floor</td>\n",
       "      <td>12916.0</td>\n",
       "    </tr>\n",
       "    <tr>\n",
       "      <th>1256</th>\n",
       "      <td>875.0</td>\n",
       "      <td>3</td>\n",
       "      <td>3.0</td>\n",
       "      <td>Semi-Furnished</td>\n",
       "      <td>3.0</td>\n",
       "      <td>17500000</td>\n",
       "      <td>Ready_to_move</td>\n",
       "      <td>New_Property</td>\n",
       "      <td>Builder_Floor</td>\n",
       "      <td>12916.0</td>\n",
       "    </tr>\n",
       "    <tr>\n",
       "      <th>1257</th>\n",
       "      <td>990.0</td>\n",
       "      <td>2</td>\n",
       "      <td>2.0</td>\n",
       "      <td>Unfurnished</td>\n",
       "      <td>1.0</td>\n",
       "      <td>11500000</td>\n",
       "      <td>Ready_to_move</td>\n",
       "      <td>Resale</td>\n",
       "      <td>Builder_Floor</td>\n",
       "      <td>12916.0</td>\n",
       "    </tr>\n",
       "    <tr>\n",
       "      <th>1258</th>\n",
       "      <td>11050.0</td>\n",
       "      <td>3</td>\n",
       "      <td>3.0</td>\n",
       "      <td>Unfurnished</td>\n",
       "      <td>1.0</td>\n",
       "      <td>18500000</td>\n",
       "      <td>Ready_to_move</td>\n",
       "      <td>New_Property</td>\n",
       "      <td>Builder_Floor</td>\n",
       "      <td>12916.0</td>\n",
       "    </tr>\n",
       "  </tbody>\n",
       "</table>\n",
       "<p>1116 rows × 10 columns</p>\n",
       "</div>"
      ],
      "text/plain": [
       "         Area  BHK  Bathroom      Furnishing  Parking     Price  \\\n",
       "0       800.0    3       2.0  Semi-Furnished      1.0   6500000   \n",
       "1       750.0    2       2.0  Semi-Furnished      1.0   5000000   \n",
       "2       950.0    2       2.0       Furnished      1.0  15500000   \n",
       "3       600.0    2       2.0  Semi-Furnished      1.0   4200000   \n",
       "4       650.0    2       2.0  Semi-Furnished      1.0   6200000   \n",
       "...       ...  ...       ...             ...      ...       ...   \n",
       "1254   4118.0    4       5.0     Unfurnished      3.0  55000000   \n",
       "1255   1050.0    3       2.0  Semi-Furnished      3.0  12500000   \n",
       "1256    875.0    3       3.0  Semi-Furnished      3.0  17500000   \n",
       "1257    990.0    2       2.0     Unfurnished      1.0  11500000   \n",
       "1258  11050.0    3       3.0     Unfurnished      1.0  18500000   \n",
       "\n",
       "             Status   Transaction           Type  Per_Sqft  \n",
       "0     Ready_to_move  New_Property  Builder_Floor   11111.0  \n",
       "1     Ready_to_move  New_Property      Apartment    6667.0  \n",
       "2     Ready_to_move        Resale      Apartment    6667.0  \n",
       "3     Ready_to_move        Resale  Builder_Floor    6667.0  \n",
       "4     Ready_to_move  New_Property  Builder_Floor    6667.0  \n",
       "...             ...           ...            ...       ...  \n",
       "1254  Ready_to_move  New_Property  Builder_Floor   12916.0  \n",
       "1255  Ready_to_move        Resale  Builder_Floor   12916.0  \n",
       "1256  Ready_to_move  New_Property  Builder_Floor   12916.0  \n",
       "1257  Ready_to_move        Resale  Builder_Floor   12916.0  \n",
       "1258  Ready_to_move  New_Property  Builder_Floor   12916.0  \n",
       "\n",
       "[1116 rows x 10 columns]"
      ]
     },
     "execution_count": 28,
     "metadata": {},
     "output_type": "execute_result"
    }
   ],
   "source": [
    "data = data[z_ps<1]\n",
    "data"
   ]
  },
  {
   "cell_type": "code",
   "execution_count": 29,
   "id": "360f35f4",
   "metadata": {},
   "outputs": [
    {
     "data": {
      "image/png": "[encoded data removed]",
      "text/plain": [
       "<Figure size 800x600 with 1 Axes>"
      ]
     },
     "metadata": {},
     "output_type": "display_data"
    }
   ],
   "source": [
    "# Checking the cleaned data\n",
    "plt.figure(figsize=(8, 6))\n",
    "plt.boxplot(data['Per_Sqft'])\n",
    "plt.title('Box Plot of Data')\n",
    "plt.ylabel('Values')\n",
    "plt.show()"
   ]
  },
  {
   "cell_type": "code",
   "execution_count": 30,
   "id": "53d49e39",
   "metadata": {},
   "outputs": [
    {
     "data": {
      "image/png": "[encoded data removed]",
      "text/plain": [
       "<Figure size 800x600 with 1 Axes>"
      ]
     },
     "metadata": {},
     "output_type": "display_data"
    }
   ],
   "source": [
    "# Checking the cleaned data\n",
    "plt.figure(figsize=(8, 6))\n",
    "plt.boxplot(data['Parking'])\n",
    "plt.title('Box Plot of Data')\n",
    "plt.ylabel('Values')\n",
    "plt.show()"
   ]
  },
  {
   "cell_type": "code",
   "execution_count": 31,
   "id": "6ab98637",
   "metadata": {},
   "outputs": [
    {
     "data": {
      "text/plain": [
       "array(['Builder_Floor', 'Apartment'], dtype=object)"
      ]
     },
     "execution_count": 31,
     "metadata": {},
     "output_type": "execute_result"
    }
   ],
   "source": [
    "data['Type'].unique()"
   ]
  },
  {
   "cell_type": "code",
   "execution_count": 32,
   "id": "bd2dcb51",
   "metadata": {},
   "outputs": [],
   "source": [
    "#Replacing numeric value with string\n",
    "data.replace({'Furnishing':{'Semi-Furnished':1,'Unfurnished':0, 'Furnished': 2},'Status':{'Ready_to_move':1,'Almost_ready':0},'Self_Employed':{'No':0,'Yes':1},\n",
    "            'Transaction':{'Resale':0,'New_Property':1},'Type':{'Apartment':1,'Builder_Floor':0}},inplace=True)"
   ]
  },
  {
   "cell_type": "code",
   "execution_count": 33,
   "id": "35cc5d87",
   "metadata": {},
   "outputs": [
    {
     "name": "stdout",
     "output_type": "stream",
     "text": [
      "(1116, 10)\n"
     ]
    }
   ],
   "source": [
    "# Check the number of rows and columns in the dataset\n",
    "print(data.shape)"
   ]
  },
  {
   "cell_type": "markdown",
   "id": "f96a239e",
   "metadata": {},
   "source": [
    "# Correlative Plot"
   ]
  },
  {
   "cell_type": "code",
   "execution_count": 34,
   "id": "fee82f26",
   "metadata": {},
   "outputs": [
    {
     "data": {
      "image/png": "[encoded data removed]",
      "text/plain": [
       "<Figure size 1500x1000 with 2 Axes>"
      ]
     },
     "metadata": {},
     "output_type": "display_data"
    }
   ],
   "source": [
    "#Plotting a heatmap to show Positive and Negative Correlation with seaborn library\n",
    "plt.figure(figsize=(15,10))\n",
    "sns.heatmap(data.corr(),annot=True);"
   ]
  },
  {
   "cell_type": "markdown",
   "id": "18d3c870",
   "metadata": {},
   "source": [
    "Bathrooms are positively correlated with BHK which means that more number of bathrooms we have it will increase the BHK of the house which is true.\n",
    "\n",
    "Price is positively correlated with bathroom which means as the bathroom increases the price of the house increases."
   ]
  },
  {
   "cell_type": "markdown",
   "id": "aed628c1",
   "metadata": {},
   "source": [
    "# Data Visualization"
   ]
  },
  {
   "cell_type": "markdown",
   "id": "45d0b0d0",
   "metadata": {},
   "source": [
    "# Area vs Price"
   ]
  },
  {
   "cell_type": "code",
   "execution_count": 35,
   "id": "cbbc091d",
   "metadata": {},
   "outputs": [
    {
     "data": {
      "text/plain": [
       "<Axes: xlabel='Area', ylabel='Price'>"
      ]
     },
     "execution_count": 35,
     "metadata": {},
     "output_type": "execute_result"
    },
    {
     "data": {
      "image/png": "[encoded data removed]",
      "text/plain": [
       "<Figure size 2000x1000 with 1 Axes>"
      ]
     },
     "metadata": {},
     "output_type": "display_data"
    }
   ],
   "source": [
    "fig, ax = plt.subplots(figsize=(20,10))\n",
    "sns.barplot(x =data.Area, y =data.Price)"
   ]
  },
  {
   "cell_type": "markdown",
   "id": "41d8c7a6",
   "metadata": {},
   "source": [
    "# Bathroom vs Price"
   ]
  },
  {
   "cell_type": "code",
   "execution_count": 36,
   "id": "8452198e",
   "metadata": {},
   "outputs": [
    {
     "data": {
      "text/plain": [
       "<Axes: xlabel='Bathroom', ylabel='Price'>"
      ]
     },
     "execution_count": 36,
     "metadata": {},
     "output_type": "execute_result"
    },
    {
     "data": {
      "image/png": "[encoded data removed]",
      "text/plain": [
       "<Figure size 2000x500 with 1 Axes>"
      ]
     },
     "metadata": {},
     "output_type": "display_data"
    }
   ],
   "source": [
    "fig, bx = plt.subplots(figsize=(20,5))\n",
    "sns.barplot(x =data.Bathroom, y = data.Price)"
   ]
  },
  {
   "cell_type": "markdown",
   "id": "6d456d52",
   "metadata": {},
   "source": [
    "# BHK vs Price"
   ]
  },
  {
   "cell_type": "code",
   "execution_count": 37,
   "id": "a8fc11e2",
   "metadata": {},
   "outputs": [
    {
     "data": {
      "text/plain": [
       "<Axes: xlabel='BHK', ylabel='Price'>"
      ]
     },
     "execution_count": 37,
     "metadata": {},
     "output_type": "execute_result"
    },
    {
     "data": {
      "image/png": "[encoded data removed]",
      "text/plain": [
       "<Figure size 2000x500 with 1 Axes>"
      ]
     },
     "metadata": {},
     "output_type": "display_data"
    }
   ],
   "source": [
    "fig, cx = plt.subplots(figsize=(20,5))\n",
    "sns.lineplot(data,x=\"BHK\",y=\"Price\",palette=\"muted\")"
   ]
  },
  {
   "cell_type": "markdown",
   "id": "99d37e18",
   "metadata": {},
   "source": [
    "# Splitting the train test value"
   ]
  },
  {
   "cell_type": "code",
   "execution_count": 38,
   "id": "c1c013ba",
   "metadata": {},
   "outputs": [],
   "source": [
    "#model building\n",
    "X = data.drop(['Price'], axis=1)\n",
    "Y = data['Price']"
   ]
  },
  {
   "cell_type": "code",
   "execution_count": 39,
   "id": "52d8d2f8",
   "metadata": {},
   "outputs": [],
   "source": [
    "X_train,X_test,Y_train,Y_test = train_test_split(X,Y,test_size=0.2,random_state=46)"
   ]
  },
  {
   "cell_type": "code",
   "execution_count": 40,
   "id": "affc4aac",
   "metadata": {},
   "outputs": [
    {
     "name": "stdout",
     "output_type": "stream",
     "text": [
      "(1116,)\n"
     ]
    }
   ],
   "source": [
    "print(Y.shape)"
   ]
  },
  {
   "cell_type": "code",
   "execution_count": 41,
   "id": "1e78a743",
   "metadata": {},
   "outputs": [
    {
     "data": {
      "text/plain": [
       "(892,)"
      ]
     },
     "execution_count": 41,
     "metadata": {},
     "output_type": "execute_result"
    }
   ],
   "source": [
    "Y_train.shape"
   ]
  },
  {
   "cell_type": "code",
   "execution_count": 42,
   "id": "97a6a1f7",
   "metadata": {},
   "outputs": [
    {
     "data": {
      "text/plain": [
       "(224,)"
      ]
     },
     "execution_count": 42,
     "metadata": {},
     "output_type": "execute_result"
    }
   ],
   "source": [
    "Y_test.shape"
   ]
  },
  {
   "cell_type": "markdown",
   "id": "68008e8c",
   "metadata": {},
   "source": [
    "# ML Algorithms"
   ]
  },
  {
   "cell_type": "markdown",
   "id": "7e3b7779",
   "metadata": {},
   "source": [
    "# Linear Regression"
   ]
  },
  {
   "cell_type": "code",
   "execution_count": 43,
   "id": "6e07c67c",
   "metadata": {},
   "outputs": [],
   "source": [
    "lnr=LinearRegression()"
   ]
  },
  {
   "cell_type": "code",
   "execution_count": 44,
   "id": "af7bd45d",
   "metadata": {},
   "outputs": [
    {
     "data": {
      "text/html": [
       "<style>#sk-container-id-1 {color: black;background-color: white;}#sk-container-id-1 pre{padding: 0;}#sk-container-id-1 div.sk-toggleable {background-color: white;}#sk-container-id-1 label.sk-toggleable__label {cursor: pointer;display: block;width: 100%;margin-bottom: 0;padding: 0.3em;box-sizing: border-box;text-align: center;}#sk-container-id-1 label.sk-toggleable__label-arrow:before {content: \"▸\";float: left;margin-right: 0.25em;color: #696969;}#sk-container-id-1 label.sk-toggleable__label-arrow:hover:before {color: black;}#sk-container-id-1 div.sk-estimator:hover label.sk-toggleable__label-arrow:before {color: black;}#sk-container-id-1 div.sk-toggleable__content {max-height: 0;max-width: 0;overflow: hidden;text-align: left;background-color: #f0f8ff;}#sk-container-id-1 div.sk-toggleable__content pre {margin: 0.2em;color: black;border-radius: 0.25em;background-color: #f0f8ff;}#sk-container-id-1 input.sk-toggleable__control:checked~div.sk-toggleable__content {max-height: 200px;max-width: 100%;overflow: auto;}#sk-container-id-1 input.sk-toggleable__control:checked~label.sk-toggleable__label-arrow:before {content: \"▾\";}#sk-container-id-1 div.sk-estimator input.sk-toggleable__control:checked~label.sk-toggleable__label {background-color: #d4ebff;}#sk-container-id-1 div.sk-label input.sk-toggleable__control:checked~label.sk-toggleable__label {background-color: #d4ebff;}#sk-container-id-1 input.sk-hidden--visually {border: 0;clip: rect(1px 1px 1px 1px);clip: rect(1px, 1px, 1px, 1px);height: 1px;margin: -1px;overflow: hidden;padding: 0;position: absolute;width: 1px;}#sk-container-id-1 div.sk-estimator {font-family: monospace;background-color: #f0f8ff;border: 1px dotted black;border-radius: 0.25em;box-sizing: border-box;margin-bottom: 0.5em;}#sk-container-id-1 div.sk-estimator:hover {background-color: #d4ebff;}#sk-container-id-1 div.sk-parallel-item::after {content: \"\";width: 100%;border-bottom: 1px solid gray;flex-grow: 1;}#sk-container-id-1 div.sk-label:hover label.sk-toggleable__label {background-color: #d4ebff;}#sk-container-id-1 div.sk-serial::before {content: \"\";position: absolute;border-left: 1px solid gray;box-sizing: border-box;top: 0;bottom: 0;left: 50%;z-index: 0;}#sk-container-id-1 div.sk-serial {display: flex;flex-direction: column;align-items: center;background-color: white;padding-right: 0.2em;padding-left: 0.2em;position: relative;}#sk-container-id-1 div.sk-item {position: relative;z-index: 1;}#sk-container-id-1 div.sk-parallel {display: flex;align-items: stretch;justify-content: center;background-color: white;position: relative;}#sk-container-id-1 div.sk-item::before, #sk-container-id-1 div.sk-parallel-item::before {content: \"\";position: absolute;border-left: 1px solid gray;box-sizing: border-box;top: 0;bottom: 0;left: 50%;z-index: -1;}#sk-container-id-1 div.sk-parallel-item {display: flex;flex-direction: column;z-index: 1;position: relative;background-color: white;}#sk-container-id-1 div.sk-parallel-item:first-child::after {align-self: flex-end;width: 50%;}#sk-container-id-1 div.sk-parallel-item:last-child::after {align-self: flex-start;width: 50%;}#sk-container-id-1 div.sk-parallel-item:only-child::after {width: 0;}#sk-container-id-1 div.sk-dashed-wrapped {border: 1px dashed gray;margin: 0 0.4em 0.5em 0.4em;box-sizing: border-box;padding-bottom: 0.4em;background-color: white;}#sk-container-id-1 div.sk-label label {font-family: monospace;font-weight: bold;display: inline-block;line-height: 1.2em;}#sk-container-id-1 div.sk-label-container {text-align: center;}#sk-container-id-1 div.sk-container {/* jupyter's `normalize.less` sets `[hidden] { display: none; }` but bootstrap.min.css set `[hidden] { display: none !important; }` so we also need the `!important` here to be able to override the default hidden behavior on the sphinx rendered scikit-learn.org. See: https://github.com/scikit-learn/scikit-learn/issues/21755 */display: inline-block !important;position: relative;}#sk-container-id-1 div.sk-text-repr-fallback {display: none;}</style><div id=\"sk-container-id-1\" class=\"sk-top-container\"><div class=\"sk-text-repr-fallback\"><pre>LinearRegression()</pre><b>In a Jupyter environment, please rerun this cell to show the HTML representation or trust the notebook. <br />On GitHub, the HTML representation is unable to render, please try loading this page with nbviewer.org.</b></div><div class=\"sk-container\" hidden><div class=\"sk-item\"><div class=\"sk-estimator sk-toggleable\"><input class=\"sk-toggleable__control sk-hidden--visually\" id=\"sk-estimator-id-1\" type=\"checkbox\" checked><label for=\"sk-estimator-id-1\" class=\"sk-toggleable__label sk-toggleable__label-arrow\">LinearRegression</label><div class=\"sk-toggleable__content\"><pre>LinearRegression()</pre></div></div></div></div></div>"
      ],
      "text/plain": [
       "LinearRegression()"
      ]
     },
     "execution_count": 44,
     "metadata": {},
     "output_type": "execute_result"
    }
   ],
   "source": [
    "lnr.fit(X_train,Y_train)"
   ]
  },
  {
   "cell_type": "code",
   "execution_count": 45,
   "id": "305b8ce2",
   "metadata": {},
   "outputs": [
    {
     "data": {
      "text/plain": [
       "array([ 3.20750204e+07,  1.27426397e+07,  5.42407736e+07, -5.40241855e+06,\n",
       "        2.29429196e+07,  9.97315942e+06,  6.04510845e+07,  5.22588117e+06,\n",
       "        2.80696154e+07,  2.80815060e+07,  1.00212005e+07,  2.06553267e+07,\n",
       "        1.30805239e+07,  1.47783286e+07,  4.10663294e+07,  3.18285855e+07,\n",
       "        2.82991491e+07, -8.84975975e+06,  7.69806232e+06,  1.06665517e+07,\n",
       "        1.44116916e+07,  2.11782549e+07,  1.27206234e+07, -1.65551306e+06,\n",
       "        1.94111320e+07, -1.39985368e+06,  2.88755802e+07,  4.85970924e+07,\n",
       "        3.50775172e+07,  3.99491728e+07,  7.23347708e+07,  6.75252212e+07,\n",
       "        2.66189278e+07,  4.30941160e+06,  8.58229858e+06,  3.53871339e+07,\n",
       "        8.50698388e+06,  3.21055621e+07,  3.27418287e+07,  1.07928971e+07,\n",
       "        3.13220397e+07,  4.84786927e+07,  8.77165745e+06,  4.95609947e+06,\n",
       "        1.49420353e+07,  6.54229953e+07,  7.52127648e+06,  7.58028356e+06,\n",
       "        3.07343068e+07, -1.07150239e+07,  9.71562960e+06,  2.24828542e+07,\n",
       "        2.39395154e+07,  2.11406163e+07,  2.80239239e+06, -4.87940639e+06,\n",
       "        2.68518839e+07,  8.09614890e+07,  3.71332092e+07,  8.80118628e+06,\n",
       "       -3.50667832e+06,  4.61216205e+07,  1.37579686e+07,  1.28018670e+07,\n",
       "       -7.85189428e+06,  9.33204262e+06, -8.49767542e+06,  3.98514351e+07,\n",
       "        3.16342860e+07,  5.91137469e+06,  8.18619625e+06,  1.04752939e+07,\n",
       "        8.36522047e+06,  6.37055531e+07,  1.18218596e+07,  1.04752939e+07,\n",
       "        1.94346191e+07,  1.36478730e+07,  1.26875513e+07, -6.85067316e+06,\n",
       "        1.68488424e+06,  4.39283375e+07,  4.21150737e+07, -5.40409588e+06,\n",
       "        2.78627609e+06,  9.92998542e+06,  1.10758008e+07,  3.42599916e+07,\n",
       "        4.59818954e+06,  2.43141025e+07,  4.56651090e+07, -4.76851089e+06,\n",
       "        1.08871608e+07,  6.04429749e+06,  1.25547876e+07,  1.13118706e+07,\n",
       "       -2.50144731e+06,  1.75171967e+07,  4.41710150e+07,  1.16707575e+07,\n",
       "        5.42531700e+07,  9.77487404e+06,  7.96060770e+06,  2.65109891e+07,\n",
       "        1.99759222e+07,  5.57747867e+07, -1.57484401e+06, -9.52990090e+06,\n",
       "        5.51588000e+07,  2.46882007e+07,  7.08482030e+07,  6.53422833e+07,\n",
       "        1.10787675e+08,  1.31775949e+07,  8.77708728e+06,  1.54653253e+07,\n",
       "        6.03034622e+07,  2.59647495e+07,  2.10673889e+07,  4.27034701e+07,\n",
       "       -6.50725363e+05,  1.00943702e+07,  2.16964641e+07,  3.85699942e+07,\n",
       "        2.96910077e+07,  4.44404221e+07,  5.45190048e+07,  2.63455104e+07,\n",
       "        2.34728807e+07,  1.16497735e+07,  1.25564165e+07,  6.50793275e+06,\n",
       "        9.65166316e+06, -3.25788090e+06,  1.96775312e+07,  1.91326450e+07,\n",
       "        2.13796272e+07,  1.17438326e+07,  1.43680906e+07,  1.37172183e+07,\n",
       "        6.95455455e+06,  8.70353958e+06,  2.50510498e+07,  4.21831368e+07,\n",
       "        2.96752929e+07,  7.06581199e+06,  2.47189729e+07,  6.37844987e+06,\n",
       "        1.40188887e+07,  4.86949986e+06,  1.25519509e+07,  1.25084599e+07,\n",
       "       -1.39028260e+06,  2.63310576e+07,  1.19060444e+07,  5.41451869e+06,\n",
       "        3.04223390e+07,  1.13466585e+06,  2.56358723e+07, -4.65363329e+06,\n",
       "        2.18705095e+07,  1.58329473e+07,  1.62890589e+07,  2.69187658e+07,\n",
       "        7.02426337e+06,  1.72031339e+07,  3.33629432e+07,  4.19091403e+07,\n",
       "        5.77937732e+07,  2.15736010e+07,  2.23082149e+07,  7.81534422e+06,\n",
       "        5.44723592e+07,  2.19198194e+07, -4.57879820e+06,  3.93556151e+07,\n",
       "        2.86242339e+07,  2.28622413e+07,  1.69153488e+07,  1.85717248e+07,\n",
       "        4.88452525e+07,  4.35765695e+06,  7.64827395e+06,  3.85576062e+07,\n",
       "        8.32769959e+07,  2.64568499e+07,  2.81482099e+06,  1.18985186e+07,\n",
       "        4.36731815e+06,  2.64059785e+07,  3.98775028e+07,  1.40920691e+08,\n",
       "        2.27785501e+06,  3.17573438e+07,  2.65441601e+07,  2.09587450e+07,\n",
       "        8.56993563e+06,  6.44113469e+07,  3.13377511e+07,  1.53893791e+07,\n",
       "        2.69452319e+07,  1.59015628e+07,  3.92245889e+07,  1.71127925e+07,\n",
       "       -6.97619979e+06,  2.08575265e+07,  4.70090694e+07,  4.48068096e+06,\n",
       "        2.43579997e+07,  1.67723485e+07,  3.35357558e+07, -7.38124474e+06,\n",
       "        2.99723918e+07,  5.84583928e+07,  2.06143354e+07,  1.31377541e+07,\n",
       "        3.56493211e+07,  2.45516829e+07,  3.29423675e+07,  1.01268409e+07,\n",
       "        1.88821958e+07,  1.67194137e+07,  2.88085078e+07,  2.88922992e+06])"
      ]
     },
     "execution_count": 45,
     "metadata": {},
     "output_type": "execute_result"
    }
   ],
   "source": [
    "lnr_pred= lnr.predict(X_test)\n",
    "lnr_pred"
   ]
  },
  {
   "cell_type": "code",
   "execution_count": 46,
   "id": "d980ebf0",
   "metadata": {},
   "outputs": [
    {
     "name": "stdout",
     "output_type": "stream",
     "text": [
      "0.6304074339259955\n"
     ]
    }
   ],
   "source": [
    "score_lnr = metrics.r2_score(Y_test, lnr_pred)\n",
    "print(score_lnr)"
   ]
  },
  {
   "cell_type": "markdown",
   "id": "02560f1c",
   "metadata": {},
   "source": [
    "# Random Forest"
   ]
  },
  {
   "cell_type": "code",
   "execution_count": 47,
   "id": "2d606930",
   "metadata": {},
   "outputs": [
    {
     "data": {
      "text/html": [
       "<style>#sk-container-id-2 {color: black;background-color: white;}#sk-container-id-2 pre{padding: 0;}#sk-container-id-2 div.sk-toggleable {background-color: white;}#sk-container-id-2 label.sk-toggleable__label {cursor: pointer;display: block;width: 100%;margin-bottom: 0;padding: 0.3em;box-sizing: border-box;text-align: center;}#sk-container-id-2 label.sk-toggleable__label-arrow:before {content: \"▸\";float: left;margin-right: 0.25em;color: #696969;}#sk-container-id-2 label.sk-toggleable__label-arrow:hover:before {color: black;}#sk-container-id-2 div.sk-estimator:hover label.sk-toggleable__label-arrow:before {color: black;}#sk-container-id-2 div.sk-toggleable__content {max-height: 0;max-width: 0;overflow: hidden;text-align: left;background-color: #f0f8ff;}#sk-container-id-2 div.sk-toggleable__content pre {margin: 0.2em;color: black;border-radius: 0.25em;background-color: #f0f8ff;}#sk-container-id-2 input.sk-toggleable__control:checked~div.sk-toggleable__content {max-height: 200px;max-width: 100%;overflow: auto;}#sk-container-id-2 input.sk-toggleable__control:checked~label.sk-toggleable__label-arrow:before {content: \"▾\";}#sk-container-id-2 div.sk-estimator input.sk-toggleable__control:checked~label.sk-toggleable__label {background-color: #d4ebff;}#sk-container-id-2 div.sk-label input.sk-toggleable__control:checked~label.sk-toggleable__label {background-color: #d4ebff;}#sk-container-id-2 input.sk-hidden--visually {border: 0;clip: rect(1px 1px 1px 1px);clip: rect(1px, 1px, 1px, 1px);height: 1px;margin: -1px;overflow: hidden;padding: 0;position: absolute;width: 1px;}#sk-container-id-2 div.sk-estimator {font-family: monospace;background-color: #f0f8ff;border: 1px dotted black;border-radius: 0.25em;box-sizing: border-box;margin-bottom: 0.5em;}#sk-container-id-2 div.sk-estimator:hover {background-color: #d4ebff;}#sk-container-id-2 div.sk-parallel-item::after {content: \"\";width: 100%;border-bottom: 1px solid gray;flex-grow: 1;}#sk-container-id-2 div.sk-label:hover label.sk-toggleable__label {background-color: #d4ebff;}#sk-container-id-2 div.sk-serial::before {content: \"\";position: absolute;border-left: 1px solid gray;box-sizing: border-box;top: 0;bottom: 0;left: 50%;z-index: 0;}#sk-container-id-2 div.sk-serial {display: flex;flex-direction: column;align-items: center;background-color: white;padding-right: 0.2em;padding-left: 0.2em;position: relative;}#sk-container-id-2 div.sk-item {position: relative;z-index: 1;}#sk-container-id-2 div.sk-parallel {display: flex;align-items: stretch;justify-content: center;background-color: white;position: relative;}#sk-container-id-2 div.sk-item::before, #sk-container-id-2 div.sk-parallel-item::before {content: \"\";position: absolute;border-left: 1px solid gray;box-sizing: border-box;top: 0;bottom: 0;left: 50%;z-index: -1;}#sk-container-id-2 div.sk-parallel-item {display: flex;flex-direction: column;z-index: 1;position: relative;background-color: white;}#sk-container-id-2 div.sk-parallel-item:first-child::after {align-self: flex-end;width: 50%;}#sk-container-id-2 div.sk-parallel-item:last-child::after {align-self: flex-start;width: 50%;}#sk-container-id-2 div.sk-parallel-item:only-child::after {width: 0;}#sk-container-id-2 div.sk-dashed-wrapped {border: 1px dashed gray;margin: 0 0.4em 0.5em 0.4em;box-sizing: border-box;padding-bottom: 0.4em;background-color: white;}#sk-container-id-2 div.sk-label label {font-family: monospace;font-weight: bold;display: inline-block;line-height: 1.2em;}#sk-container-id-2 div.sk-label-container {text-align: center;}#sk-container-id-2 div.sk-container {/* jupyter's `normalize.less` sets `[hidden] { display: none; }` but bootstrap.min.css set `[hidden] { display: none !important; }` so we also need the `!important` here to be able to override the default hidden behavior on the sphinx rendered scikit-learn.org. See: https://github.com/scikit-learn/scikit-learn/issues/21755 */display: inline-block !important;position: relative;}#sk-container-id-2 div.sk-text-repr-fallback {display: none;}</style><div id=\"sk-container-id-2\" class=\"sk-top-container\"><div class=\"sk-text-repr-fallback\"><pre>RandomForestRegressor()</pre><b>In a Jupyter environment, please rerun this cell to show the HTML representation or trust the notebook. <br />On GitHub, the HTML representation is unable to render, please try loading this page with nbviewer.org.</b></div><div class=\"sk-container\" hidden><div class=\"sk-item\"><div class=\"sk-estimator sk-toggleable\"><input class=\"sk-toggleable__control sk-hidden--visually\" id=\"sk-estimator-id-2\" type=\"checkbox\" checked><label for=\"sk-estimator-id-2\" class=\"sk-toggleable__label sk-toggleable__label-arrow\">RandomForestRegressor</label><div class=\"sk-toggleable__content\"><pre>RandomForestRegressor()</pre></div></div></div></div></div>"
      ],
      "text/plain": [
       "RandomForestRegressor()"
      ]
     },
     "execution_count": 47,
     "metadata": {},
     "output_type": "execute_result"
    }
   ],
   "source": [
    "#Random Forest\n",
    "forest = RandomForestRegressor()\n",
    "forest.fit(X_train, Y_train)"
   ]
  },
  {
   "cell_type": "code",
   "execution_count": 48,
   "id": "41e40fdf",
   "metadata": {},
   "outputs": [],
   "source": [
    "forest_pred = forest.predict(X_test)"
   ]
  },
  {
   "cell_type": "code",
   "execution_count": 49,
   "id": "8304ceda",
   "metadata": {},
   "outputs": [
    {
     "data": {
      "text/plain": [
       "array([3.79910000e+07, 9.59900000e+06, 6.22420000e+07, 2.78750000e+06,\n",
       "       1.93720000e+07, 1.33470000e+07, 6.41330000e+07, 3.36740000e+06,\n",
       "       3.82010000e+07, 1.93010000e+07, 1.64295000e+07, 1.53763000e+07,\n",
       "       8.01130000e+06, 1.72605000e+07, 3.52200000e+07, 1.47637000e+07,\n",
       "       2.56300000e+07, 1.81860000e+06, 1.54700000e+07, 1.64020000e+07,\n",
       "       1.27630000e+07, 9.10200000e+06, 1.09179500e+07, 2.78650000e+06,\n",
       "       1.45050000e+07, 8.84841667e+06, 2.26926000e+07, 4.53990000e+07,\n",
       "       5.60630000e+07, 4.75150000e+07, 6.15910000e+07, 7.00220000e+07,\n",
       "       2.92800000e+07, 5.97390000e+06, 9.15000000e+06, 2.47340000e+07,\n",
       "       7.84670000e+06, 4.21020000e+07, 2.09915000e+07, 7.55895714e+06,\n",
       "       3.09350000e+07, 4.82160000e+07, 5.96980000e+06, 4.33370000e+06,\n",
       "       1.68480000e+07, 7.31880000e+07, 4.90990000e+06, 5.13250000e+06,\n",
       "       1.95820000e+07, 1.90800000e+06, 5.15790000e+06, 1.31684000e+07,\n",
       "       2.20700000e+07, 1.32530000e+07, 3.91240000e+06, 2.05560000e+06,\n",
       "       1.93565000e+07, 1.83180000e+08, 1.77100000e+07, 5.70690000e+06,\n",
       "       5.60750000e+06, 6.64750000e+07, 1.60790000e+07, 1.12580000e+07,\n",
       "       2.46325000e+06, 6.83060000e+06, 1.79230000e+06, 2.93000000e+07,\n",
       "       2.98480000e+07, 8.74600000e+06, 7.34442857e+06, 1.26002381e+07,\n",
       "       6.24390000e+06, 5.96460000e+07, 1.32575000e+07, 1.26002381e+07,\n",
       "       1.17710000e+07, 5.66580000e+06, 1.39330000e+07, 3.33100000e+06,\n",
       "       3.84040000e+06, 6.21360000e+07, 5.99880000e+07, 2.05690000e+06,\n",
       "       5.98200000e+06, 1.09710000e+07, 3.55040000e+06, 2.76023333e+07,\n",
       "       4.24650000e+06, 1.80100000e+07, 3.87860000e+07, 3.44350000e+06,\n",
       "       1.33470000e+07, 3.22259286e+06, 4.66025000e+06, 6.42990000e+06,\n",
       "       4.47476667e+06, 1.37300000e+07, 4.67320000e+07, 8.37695000e+06,\n",
       "       4.65680000e+07, 7.05350000e+06, 8.23750000e+06, 1.82356667e+07,\n",
       "       1.78320000e+07, 7.01925000e+07, 2.58900000e+06, 1.73010000e+06,\n",
       "       7.25940000e+07, 2.65156333e+07, 7.24500000e+07, 7.71300000e+07,\n",
       "       1.30384000e+08, 1.32961333e+07, 4.65950000e+06, 8.68990000e+06,\n",
       "       7.15920000e+07, 3.26460000e+07, 1.27740000e+07, 3.86760000e+07,\n",
       "       3.57900000e+06, 3.14300000e+06, 1.85700000e+07, 4.29610000e+07,\n",
       "       3.60750000e+07, 6.30220000e+07, 7.83800000e+07, 2.62000000e+07,\n",
       "       1.46200000e+07, 9.62600000e+06, 1.25430000e+07, 6.39523810e+06,\n",
       "       8.14700000e+06, 5.36150000e+06, 1.35870000e+07, 1.68020000e+07,\n",
       "       1.99986000e+07, 6.83900000e+06, 1.69983333e+07, 1.67550000e+07,\n",
       "       3.58100000e+06, 1.05980000e+07, 2.39418333e+07, 2.19840000e+07,\n",
       "       4.89850000e+06, 8.37380000e+06, 1.71230000e+07, 2.93350000e+06,\n",
       "       1.84310000e+07, 7.20590000e+06, 7.30060000e+06, 6.75050000e+06,\n",
       "       7.56150000e+06, 1.06090000e+07, 1.44175000e+07, 7.52603810e+06,\n",
       "       2.89220000e+07, 3.66514286e+06, 1.65592167e+07, 2.74150000e+06,\n",
       "       2.56110000e+07, 2.42930000e+07, 1.09399000e+07, 2.03133333e+07,\n",
       "       3.61250000e+06, 8.45230000e+06, 2.53970000e+07, 5.15780000e+07,\n",
       "       9.14700000e+07, 2.43980000e+07, 1.30910000e+07, 1.17717500e+07,\n",
       "       6.12780000e+07, 2.20760000e+07, 3.08600000e+06, 3.21200000e+07,\n",
       "       2.63420000e+07, 3.54030000e+07, 1.32498000e+07, 1.31486000e+07,\n",
       "       4.14580000e+07, 5.38710000e+06, 9.36583333e+06, 2.20280000e+07,\n",
       "       1.17232000e+08, 1.98110000e+07, 4.22300000e+06, 6.20800000e+06,\n",
       "       4.00100000e+06, 1.64514167e+07, 3.48300000e+07, 9.54290000e+07,\n",
       "       7.98140000e+06, 2.43850000e+07, 2.91050000e+07, 1.22340000e+07,\n",
       "       8.54610000e+06, 7.24820000e+07, 3.57740000e+07, 3.85000000e+06,\n",
       "       3.52540000e+07, 1.02857000e+07, 3.87230000e+07, 1.51950000e+07,\n",
       "       1.81550000e+06, 7.57800000e+06, 4.51590000e+07, 1.26928667e+07,\n",
       "       2.02950000e+07, 9.87380000e+06, 4.93750000e+07, 2.45120000e+06,\n",
       "       1.93115000e+07, 8.18467143e+07, 1.18335000e+07, 1.48730000e+07,\n",
       "       3.83350000e+07, 2.02710000e+07, 4.05600000e+07, 7.19710000e+06,\n",
       "       9.19500000e+06, 8.97880000e+06, 3.25390000e+07, 6.23900000e+06])"
      ]
     },
     "execution_count": 49,
     "metadata": {},
     "output_type": "execute_result"
    }
   ],
   "source": [
    "forest_pred"
   ]
  },
  {
   "cell_type": "code",
   "execution_count": 50,
   "id": "1ea36a7d",
   "metadata": {},
   "outputs": [
    {
     "name": "stdout",
     "output_type": "stream",
     "text": [
      "0.8338744622974434\n"
     ]
    }
   ],
   "source": [
    "score_rf = metrics.r2_score(Y_test, forest_pred)\n",
    "print(score_rf)"
   ]
  },
  {
   "cell_type": "markdown",
   "id": "c721f389",
   "metadata": {},
   "source": [
    "# XG Boost"
   ]
  },
  {
   "cell_type": "code",
   "execution_count": 51,
   "id": "fe480bb1",
   "metadata": {},
   "outputs": [
    {
     "data": {
      "text/html": [
       "<style>#sk-container-id-3 {color: black;background-color: white;}#sk-container-id-3 pre{padding: 0;}#sk-container-id-3 div.sk-toggleable {background-color: white;}#sk-container-id-3 label.sk-toggleable__label {cursor: pointer;display: block;width: 100%;margin-bottom: 0;padding: 0.3em;box-sizing: border-box;text-align: center;}#sk-container-id-3 label.sk-toggleable__label-arrow:before {content: \"▸\";float: left;margin-right: 0.25em;color: #696969;}#sk-container-id-3 label.sk-toggleable__label-arrow:hover:before {color: black;}#sk-container-id-3 div.sk-estimator:hover label.sk-toggleable__label-arrow:before {color: black;}#sk-container-id-3 div.sk-toggleable__content {max-height: 0;max-width: 0;overflow: hidden;text-align: left;background-color: #f0f8ff;}#sk-container-id-3 div.sk-toggleable__content pre {margin: 0.2em;color: black;border-radius: 0.25em;background-color: #f0f8ff;}#sk-container-id-3 input.sk-toggleable__control:checked~div.sk-toggleable__content {max-height: 200px;max-width: 100%;overflow: auto;}#sk-container-id-3 input.sk-toggleable__control:checked~label.sk-toggleable__label-arrow:before {content: \"▾\";}#sk-container-id-3 div.sk-estimator input.sk-toggleable__control:checked~label.sk-toggleable__label {background-color: #d4ebff;}#sk-container-id-3 div.sk-label input.sk-toggleable__control:checked~label.sk-toggleable__label {background-color: #d4ebff;}#sk-container-id-3 input.sk-hidden--visually {border: 0;clip: rect(1px 1px 1px 1px);clip: rect(1px, 1px, 1px, 1px);height: 1px;margin: -1px;overflow: hidden;padding: 0;position: absolute;width: 1px;}#sk-container-id-3 div.sk-estimator {font-family: monospace;background-color: #f0f8ff;border: 1px dotted black;border-radius: 0.25em;box-sizing: border-box;margin-bottom: 0.5em;}#sk-container-id-3 div.sk-estimator:hover {background-color: #d4ebff;}#sk-container-id-3 div.sk-parallel-item::after {content: \"\";width: 100%;border-bottom: 1px solid gray;flex-grow: 1;}#sk-container-id-3 div.sk-label:hover label.sk-toggleable__label {background-color: #d4ebff;}#sk-container-id-3 div.sk-serial::before {content: \"\";position: absolute;border-left: 1px solid gray;box-sizing: border-box;top: 0;bottom: 0;left: 50%;z-index: 0;}#sk-container-id-3 div.sk-serial {display: flex;flex-direction: column;align-items: center;background-color: white;padding-right: 0.2em;padding-left: 0.2em;position: relative;}#sk-container-id-3 div.sk-item {position: relative;z-index: 1;}#sk-container-id-3 div.sk-parallel {display: flex;align-items: stretch;justify-content: center;background-color: white;position: relative;}#sk-container-id-3 div.sk-item::before, #sk-container-id-3 div.sk-parallel-item::before {content: \"\";position: absolute;border-left: 1px solid gray;box-sizing: border-box;top: 0;bottom: 0;left: 50%;z-index: -1;}#sk-container-id-3 div.sk-parallel-item {display: flex;flex-direction: column;z-index: 1;position: relative;background-color: white;}#sk-container-id-3 div.sk-parallel-item:first-child::after {align-self: flex-end;width: 50%;}#sk-container-id-3 div.sk-parallel-item:last-child::after {align-self: flex-start;width: 50%;}#sk-container-id-3 div.sk-parallel-item:only-child::after {width: 0;}#sk-container-id-3 div.sk-dashed-wrapped {border: 1px dashed gray;margin: 0 0.4em 0.5em 0.4em;box-sizing: border-box;padding-bottom: 0.4em;background-color: white;}#sk-container-id-3 div.sk-label label {font-family: monospace;font-weight: bold;display: inline-block;line-height: 1.2em;}#sk-container-id-3 div.sk-label-container {text-align: center;}#sk-container-id-3 div.sk-container {/* jupyter's `normalize.less` sets `[hidden] { display: none; }` but bootstrap.min.css set `[hidden] { display: none !important; }` so we also need the `!important` here to be able to override the default hidden behavior on the sphinx rendered scikit-learn.org. See: https://github.com/scikit-learn/scikit-learn/issues/21755 */display: inline-block !important;position: relative;}#sk-container-id-3 div.sk-text-repr-fallback {display: none;}</style><div id=\"sk-container-id-3\" class=\"sk-top-container\"><div class=\"sk-text-repr-fallback\"><pre>XGBRegressor(base_score=None, booster=None, callbacks=None,\n",
       "             colsample_bylevel=None, colsample_bynode=None,\n",
       "             colsample_bytree=None, early_stopping_rounds=None,\n",
       "             enable_categorical=False, eval_metric=None, feature_types=None,\n",
       "             gamma=None, gpu_id=None, grow_policy=None, importance_type=None,\n",
       "             interaction_constraints=None, learning_rate=None, max_bin=None,\n",
       "             max_cat_threshold=None, max_cat_to_onehot=None,\n",
       "             max_delta_step=None, max_depth=None, max_leaves=None,\n",
       "             min_child_weight=None, missing=nan, monotone_constraints=None,\n",
       "             n_estimators=100, n_jobs=None, num_parallel_tree=None,\n",
       "             predictor=None, random_state=None, ...)</pre><b>In a Jupyter environment, please rerun this cell to show the HTML representation or trust the notebook. <br />On GitHub, the HTML representation is unable to render, please try loading this page with nbviewer.org.</b></div><div class=\"sk-container\" hidden><div class=\"sk-item\"><div class=\"sk-estimator sk-toggleable\"><input class=\"sk-toggleable__control sk-hidden--visually\" id=\"sk-estimator-id-3\" type=\"checkbox\" checked><label for=\"sk-estimator-id-3\" class=\"sk-toggleable__label sk-toggleable__label-arrow\">XGBRegressor</label><div class=\"sk-toggleable__content\"><pre>XGBRegressor(base_score=None, booster=None, callbacks=None,\n",
       "             colsample_bylevel=None, colsample_bynode=None,\n",
       "             colsample_bytree=None, early_stopping_rounds=None,\n",
       "             enable_categorical=False, eval_metric=None, feature_types=None,\n",
       "             gamma=None, gpu_id=None, grow_policy=None, importance_type=None,\n",
       "             interaction_constraints=None, learning_rate=None, max_bin=None,\n",
       "             max_cat_threshold=None, max_cat_to_onehot=None,\n",
       "             max_delta_step=None, max_depth=None, max_leaves=None,\n",
       "             min_child_weight=None, missing=nan, monotone_constraints=None,\n",
       "             n_estimators=100, n_jobs=None, num_parallel_tree=None,\n",
       "             predictor=None, random_state=None, ...)</pre></div></div></div></div></div>"
      ],
      "text/plain": [
       "XGBRegressor(base_score=None, booster=None, callbacks=None,\n",
       "             colsample_bylevel=None, colsample_bynode=None,\n",
       "             colsample_bytree=None, early_stopping_rounds=None,\n",
       "             enable_categorical=False, eval_metric=None, feature_types=None,\n",
       "             gamma=None, gpu_id=None, grow_policy=None, importance_type=None,\n",
       "             interaction_constraints=None, learning_rate=None, max_bin=None,\n",
       "             max_cat_threshold=None, max_cat_to_onehot=None,\n",
       "             max_delta_step=None, max_depth=None, max_leaves=None,\n",
       "             min_child_weight=None, missing=nan, monotone_constraints=None,\n",
       "             n_estimators=100, n_jobs=None, num_parallel_tree=None,\n",
       "             predictor=None, random_state=None, ...)"
      ]
     },
     "execution_count": 51,
     "metadata": {},
     "output_type": "execute_result"
    }
   ],
   "source": [
    "xgb = XGBRegressor()\n",
    "xgb.fit(X_train,Y_train)"
   ]
  },
  {
   "cell_type": "code",
   "execution_count": 52,
   "id": "79019d11",
   "metadata": {},
   "outputs": [
    {
     "data": {
      "text/plain": [
       "array([3.6413084e+07, 9.2404980e+06, 6.8970464e+07, 2.1909655e+06,\n",
       "       2.3163420e+07, 1.0580374e+07, 6.2195540e+07, 4.1635842e+06,\n",
       "       3.1582238e+07, 1.7558686e+07, 1.5245886e+07, 1.8755116e+07,\n",
       "       7.1180175e+06, 1.7404600e+07, 3.5749008e+07, 1.4742987e+07,\n",
       "       2.3025482e+07, 1.7252561e+06, 1.3947132e+07, 1.4192860e+07,\n",
       "       1.4866539e+07, 8.4973220e+06, 1.1000167e+07, 2.5316638e+06,\n",
       "       1.4366563e+07, 9.0345740e+06, 2.1734220e+07, 4.2822060e+07,\n",
       "       3.6808480e+07, 4.5732576e+07, 5.6174292e+07, 7.2939320e+07,\n",
       "       2.7014512e+07, 4.8311345e+06, 9.2632140e+06, 2.7727976e+07,\n",
       "       7.0835630e+06, 3.6533144e+07, 1.8480578e+07, 7.3297955e+06,\n",
       "       2.5939712e+07, 4.8032120e+07, 6.6075205e+06, 4.0312905e+06,\n",
       "       1.5178659e+07, 6.8055400e+07, 3.6638185e+06, 4.0090252e+06,\n",
       "       2.0638650e+07, 2.3314218e+06, 4.1460158e+06, 9.9444690e+06,\n",
       "       2.3363220e+07, 1.2583207e+07, 5.0618610e+06, 1.7627719e+06,\n",
       "       2.0003872e+07, 2.3110050e+08, 1.9853962e+07, 8.8247580e+06,\n",
       "       5.3866980e+06, 6.7053384e+07, 1.5857692e+07, 1.2762132e+07,\n",
       "       2.5832338e+06, 5.5684210e+06, 1.9289582e+06, 3.2405750e+07,\n",
       "       2.8045372e+07, 6.4514990e+06, 6.6317355e+06, 1.1917076e+07,\n",
       "       8.7188050e+06, 5.5615260e+07, 1.4801904e+07, 1.1917076e+07,\n",
       "       1.1421378e+07, 4.1062900e+06, 1.5506679e+07, 3.5810425e+06,\n",
       "       3.2083495e+06, 5.7754304e+07, 5.7182220e+07, 1.7200480e+06,\n",
       "       3.8546002e+06, 1.1581523e+07, 3.1596180e+06, 2.8578210e+07,\n",
       "       5.3089020e+06, 1.7800602e+07, 3.3737944e+07, 2.3666740e+06,\n",
       "       1.2733151e+07, 2.9179058e+06, 5.9597470e+06, 6.5235180e+06,\n",
       "       4.0112015e+06, 1.2940008e+07, 4.6625264e+07, 8.3677100e+06,\n",
       "       2.6872304e+07, 6.8234240e+06, 7.3556985e+06, 1.8707552e+07,\n",
       "       1.9979902e+07, 6.3765264e+07, 2.8730525e+06, 1.9686050e+06,\n",
       "       7.3143152e+07, 2.8842684e+07, 7.4623296e+07, 7.2733224e+07,\n",
       "       1.4018160e+08, 1.3614687e+07, 3.5936095e+06, 1.0022475e+07,\n",
       "       7.8228648e+07, 3.5291676e+07, 1.1780786e+07, 3.8252424e+07,\n",
       "       4.0762768e+06, 4.1683098e+06, 1.7083372e+07, 4.4544588e+07,\n",
       "       3.5913640e+07, 7.0159496e+07, 7.7399928e+07, 2.8469108e+07,\n",
       "       1.7352788e+07, 8.4504840e+06, 1.0829252e+07, 7.2432380e+06,\n",
       "       6.1812075e+06, 4.5606380e+06, 1.6309582e+07, 1.8569272e+07,\n",
       "       2.1548760e+07, 6.0161830e+06, 1.6306103e+07, 1.6618851e+07,\n",
       "       3.1894982e+06, 1.1040948e+07, 2.4366200e+07, 3.0855010e+07,\n",
       "       2.3044208e+06, 8.3577250e+06, 1.7298380e+07, 2.9918982e+06,\n",
       "       1.4604662e+07, 6.8807430e+06, 3.6533292e+06, 6.3523935e+06,\n",
       "       8.4788510e+06, 1.4085131e+07, 1.3556653e+07, 7.5009945e+06,\n",
       "       3.3050774e+07, 3.9435552e+06, 2.0330468e+07, 6.2742025e+05,\n",
       "       3.2436650e+07, 2.6909246e+07, 1.1260017e+07, 2.0213814e+07,\n",
       "       3.7144738e+06, 7.4608370e+06, 2.5543878e+07, 5.1328980e+07,\n",
       "       6.4338468e+07, 2.0846406e+07, 1.5666142e+07, 1.0877603e+07,\n",
       "       6.8390224e+07, 2.2053872e+07, 3.3791352e+06, 3.7459032e+07,\n",
       "       2.8579742e+07, 1.9339850e+07, 1.2836522e+07, 2.1710892e+07,\n",
       "       3.8190372e+07, 4.9867140e+06, 6.7419455e+06, 2.1102002e+07,\n",
       "       1.6406661e+08, 2.0089964e+07, 6.1718415e+06, 6.7774640e+06,\n",
       "       3.5579318e+06, 1.9381888e+07, 3.4794056e+07, 5.3414632e+07,\n",
       "       8.9551310e+06, 2.4287774e+07, 3.0378440e+07, 1.4702584e+07,\n",
       "       9.7304870e+06, 7.1449344e+07, 3.5691284e+07, 1.6343982e+06,\n",
       "       3.7963760e+07, 1.1570540e+07, 3.5782656e+07, 1.6866346e+07,\n",
       "       1.9576408e+06, 8.8584000e+06, 4.0671524e+07, 9.9398380e+06,\n",
       "       1.8079912e+07, 8.8102740e+06, 4.9855156e+07, 1.8195664e+06,\n",
       "       1.9356706e+07, 7.3903192e+07, 1.0017623e+07, 1.9537298e+07,\n",
       "       4.0344516e+07, 1.9867844e+07, 3.9345624e+07, 6.7474575e+06,\n",
       "       5.0896630e+06, 9.5590760e+06, 3.4058940e+07, 5.3484070e+06],\n",
       "      dtype=float32)"
      ]
     },
     "execution_count": 52,
     "metadata": {},
     "output_type": "execute_result"
    }
   ],
   "source": [
    "xgb_pred = xgb.predict(X_test)\n",
    "xgb_pred"
   ]
  },
  {
   "cell_type": "code",
   "execution_count": 53,
   "id": "ad53432a",
   "metadata": {},
   "outputs": [
    {
     "name": "stdout",
     "output_type": "stream",
     "text": [
      "0.8854197071640211\n"
     ]
    }
   ],
   "source": [
    "score_xgb = metrics.r2_score(Y_test, xgb_pred)\n",
    "print(score_xgb)"
   ]
  },
  {
   "cell_type": "markdown",
   "id": "1d0010bb",
   "metadata": {},
   "source": [
    "# K-Nearest neighbor"
   ]
  },
  {
   "cell_type": "code",
   "execution_count": 54,
   "id": "4893f238",
   "metadata": {},
   "outputs": [
    {
     "data": {
      "text/html": [
       "<style>#sk-container-id-4 {color: black;background-color: white;}#sk-container-id-4 pre{padding: 0;}#sk-container-id-4 div.sk-toggleable {background-color: white;}#sk-container-id-4 label.sk-toggleable__label {cursor: pointer;display: block;width: 100%;margin-bottom: 0;padding: 0.3em;box-sizing: border-box;text-align: center;}#sk-container-id-4 label.sk-toggleable__label-arrow:before {content: \"▸\";float: left;margin-right: 0.25em;color: #696969;}#sk-container-id-4 label.sk-toggleable__label-arrow:hover:before {color: black;}#sk-container-id-4 div.sk-estimator:hover label.sk-toggleable__label-arrow:before {color: black;}#sk-container-id-4 div.sk-toggleable__content {max-height: 0;max-width: 0;overflow: hidden;text-align: left;background-color: #f0f8ff;}#sk-container-id-4 div.sk-toggleable__content pre {margin: 0.2em;color: black;border-radius: 0.25em;background-color: #f0f8ff;}#sk-container-id-4 input.sk-toggleable__control:checked~div.sk-toggleable__content {max-height: 200px;max-width: 100%;overflow: auto;}#sk-container-id-4 input.sk-toggleable__control:checked~label.sk-toggleable__label-arrow:before {content: \"▾\";}#sk-container-id-4 div.sk-estimator input.sk-toggleable__control:checked~label.sk-toggleable__label {background-color: #d4ebff;}#sk-container-id-4 div.sk-label input.sk-toggleable__control:checked~label.sk-toggleable__label {background-color: #d4ebff;}#sk-container-id-4 input.sk-hidden--visually {border: 0;clip: rect(1px 1px 1px 1px);clip: rect(1px, 1px, 1px, 1px);height: 1px;margin: -1px;overflow: hidden;padding: 0;position: absolute;width: 1px;}#sk-container-id-4 div.sk-estimator {font-family: monospace;background-color: #f0f8ff;border: 1px dotted black;border-radius: 0.25em;box-sizing: border-box;margin-bottom: 0.5em;}#sk-container-id-4 div.sk-estimator:hover {background-color: #d4ebff;}#sk-container-id-4 div.sk-parallel-item::after {content: \"\";width: 100%;border-bottom: 1px solid gray;flex-grow: 1;}#sk-container-id-4 div.sk-label:hover label.sk-toggleable__label {background-color: #d4ebff;}#sk-container-id-4 div.sk-serial::before {content: \"\";position: absolute;border-left: 1px solid gray;box-sizing: border-box;top: 0;bottom: 0;left: 50%;z-index: 0;}#sk-container-id-4 div.sk-serial {display: flex;flex-direction: column;align-items: center;background-color: white;padding-right: 0.2em;padding-left: 0.2em;position: relative;}#sk-container-id-4 div.sk-item {position: relative;z-index: 1;}#sk-container-id-4 div.sk-parallel {display: flex;align-items: stretch;justify-content: center;background-color: white;position: relative;}#sk-container-id-4 div.sk-item::before, #sk-container-id-4 div.sk-parallel-item::before {content: \"\";position: absolute;border-left: 1px solid gray;box-sizing: border-box;top: 0;bottom: 0;left: 50%;z-index: -1;}#sk-container-id-4 div.sk-parallel-item {display: flex;flex-direction: column;z-index: 1;position: relative;background-color: white;}#sk-container-id-4 div.sk-parallel-item:first-child::after {align-self: flex-end;width: 50%;}#sk-container-id-4 div.sk-parallel-item:last-child::after {align-self: flex-start;width: 50%;}#sk-container-id-4 div.sk-parallel-item:only-child::after {width: 0;}#sk-container-id-4 div.sk-dashed-wrapped {border: 1px dashed gray;margin: 0 0.4em 0.5em 0.4em;box-sizing: border-box;padding-bottom: 0.4em;background-color: white;}#sk-container-id-4 div.sk-label label {font-family: monospace;font-weight: bold;display: inline-block;line-height: 1.2em;}#sk-container-id-4 div.sk-label-container {text-align: center;}#sk-container-id-4 div.sk-container {/* jupyter's `normalize.less` sets `[hidden] { display: none; }` but bootstrap.min.css set `[hidden] { display: none !important; }` so we also need the `!important` here to be able to override the default hidden behavior on the sphinx rendered scikit-learn.org. See: https://github.com/scikit-learn/scikit-learn/issues/21755 */display: inline-block !important;position: relative;}#sk-container-id-4 div.sk-text-repr-fallback {display: none;}</style><div id=\"sk-container-id-4\" class=\"sk-top-container\"><div class=\"sk-text-repr-fallback\"><pre>KNeighborsRegressor()</pre><b>In a Jupyter environment, please rerun this cell to show the HTML representation or trust the notebook. <br />On GitHub, the HTML representation is unable to render, please try loading this page with nbviewer.org.</b></div><div class=\"sk-container\" hidden><div class=\"sk-item\"><div class=\"sk-estimator sk-toggleable\"><input class=\"sk-toggleable__control sk-hidden--visually\" id=\"sk-estimator-id-4\" type=\"checkbox\" checked><label for=\"sk-estimator-id-4\" class=\"sk-toggleable__label sk-toggleable__label-arrow\">KNeighborsRegressor</label><div class=\"sk-toggleable__content\"><pre>KNeighborsRegressor()</pre></div></div></div></div></div>"
      ],
      "text/plain": [
       "KNeighborsRegressor()"
      ]
     },
     "execution_count": 54,
     "metadata": {},
     "output_type": "execute_result"
    }
   ],
   "source": [
    "knr = KNeighborsRegressor()\n",
    "# Train Model\n",
    "knr.fit(X_train, Y_train)"
   ]
  },
  {
   "cell_type": "code",
   "execution_count": 55,
   "id": "9a657b54",
   "metadata": {},
   "outputs": [
    {
     "data": {
      "text/plain": [
       "array([4.4760e+07, 1.2900e+07, 6.2700e+07, 2.6700e+06, 1.9500e+07,\n",
       "       1.1580e+07, 6.0000e+07, 3.9000e+06, 3.2300e+07, 2.1400e+07,\n",
       "       1.5620e+07, 1.4588e+07, 9.1360e+06, 2.3480e+07, 5.1700e+07,\n",
       "       6.5220e+06, 3.9600e+07, 1.8800e+06, 1.6240e+07, 2.2400e+07,\n",
       "       1.3420e+07, 7.4620e+06, 8.8100e+06, 2.9200e+06, 1.5220e+07,\n",
       "       7.6600e+06, 3.9960e+07, 3.0600e+07, 5.2000e+07, 3.4440e+07,\n",
       "       5.5500e+07, 7.0500e+07, 2.5600e+07, 5.7600e+06, 9.3400e+06,\n",
       "       2.4800e+07, 6.3000e+06, 5.1740e+07, 2.2000e+07, 8.5200e+06,\n",
       "       3.0700e+07, 3.8220e+07, 4.8380e+06, 5.0420e+06, 2.2100e+07,\n",
       "       7.7000e+07, 4.1600e+06, 5.5900e+06, 2.5700e+07, 3.0600e+06,\n",
       "       4.9740e+06, 1.0460e+07, 1.9200e+07, 1.9078e+07, 3.1200e+06,\n",
       "       2.2700e+06, 2.2700e+07, 1.2450e+08, 3.0000e+07, 5.2400e+06,\n",
       "       8.3400e+06, 6.0000e+07, 1.6020e+07, 1.1300e+07, 3.0600e+06,\n",
       "       1.3400e+07, 1.9200e+06, 1.9000e+07, 2.9800e+07, 1.0440e+07,\n",
       "       1.0160e+07, 9.1360e+06, 4.5600e+06, 6.5000e+07, 1.3300e+07,\n",
       "       9.1360e+06, 6.8000e+06, 2.8200e+06, 1.6900e+07, 2.6800e+06,\n",
       "       3.5180e+06, 4.1100e+07, 4.2100e+07, 2.8520e+06, 6.3800e+06,\n",
       "       1.1820e+07, 1.0188e+07, 2.1560e+07, 3.0600e+06, 2.0100e+07,\n",
       "       3.2900e+07, 2.9200e+06, 1.3500e+07, 3.2240e+06, 6.5600e+06,\n",
       "       7.3000e+06, 5.7000e+06, 1.5980e+07, 4.5440e+07, 6.4800e+06,\n",
       "       2.2500e+07, 1.2360e+07, 7.8200e+06, 1.7120e+07, 1.6240e+07,\n",
       "       7.5300e+07, 2.9200e+06, 2.0180e+06, 6.8300e+07, 3.0000e+07,\n",
       "       5.8100e+07, 1.0600e+08, 1.2444e+08, 1.3800e+07, 6.0400e+06,\n",
       "       7.6800e+06, 5.2000e+07, 2.9760e+07, 1.1580e+07, 3.5120e+07,\n",
       "       5.5000e+06, 2.9300e+06, 1.7220e+07, 5.2500e+07, 2.7000e+07,\n",
       "       5.7000e+07, 6.3700e+07, 2.4000e+07, 2.0060e+07, 8.5100e+06,\n",
       "       6.5600e+06, 4.9200e+06, 8.0200e+06, 9.5000e+06, 2.0100e+07,\n",
       "       1.6780e+07, 1.4588e+07, 6.0600e+06, 1.8440e+07, 1.8800e+07,\n",
       "       2.8600e+06, 1.1820e+07, 1.3980e+07, 1.5620e+07, 2.7600e+06,\n",
       "       1.1820e+07, 1.7180e+07, 3.0900e+06, 1.6140e+07, 6.7600e+06,\n",
       "       2.0180e+06, 1.2900e+07, 8.0600e+06, 8.5000e+06, 1.0370e+07,\n",
       "       1.1814e+07, 2.7820e+07, 5.0200e+06, 1.6780e+07, 3.0800e+06,\n",
       "       2.3360e+07, 2.1080e+07, 1.4340e+07, 2.0580e+07, 3.1200e+06,\n",
       "       6.5220e+06, 1.6720e+07, 3.9900e+07, 5.7360e+07, 1.3880e+07,\n",
       "       2.0380e+07, 7.7600e+06, 5.2640e+07, 2.6500e+07, 3.0200e+06,\n",
       "       3.2700e+07, 1.8440e+07, 5.7000e+07, 1.4220e+07, 1.3480e+07,\n",
       "       2.8360e+07, 4.5400e+06, 7.6400e+06, 3.9960e+07, 8.0740e+07,\n",
       "       2.0100e+07, 6.0400e+06, 3.7300e+06, 4.2200e+06, 1.6420e+07,\n",
       "       3.4600e+07, 7.2200e+07, 7.7000e+06, 2.0120e+07, 3.2500e+07,\n",
       "       1.0660e+07, 9.4400e+06, 7.7000e+07, 3.4000e+07, 4.1780e+06,\n",
       "       6.5480e+07, 8.5200e+06, 3.0460e+07, 1.4720e+07, 2.4600e+06,\n",
       "       7.7600e+06, 3.8500e+07, 1.1380e+07, 1.5200e+07, 7.7000e+06,\n",
       "       3.8100e+07, 2.2000e+06, 1.9500e+07, 6.2500e+07, 1.1580e+07,\n",
       "       2.0300e+07, 3.2900e+07, 1.7780e+07, 4.8900e+07, 7.4620e+06,\n",
       "       6.4600e+06, 1.2220e+07, 2.7880e+07, 4.4600e+06])"
      ]
     },
     "execution_count": 55,
     "metadata": {},
     "output_type": "execute_result"
    }
   ],
   "source": [
    "knr_pred = knr.predict(X_test)\n",
    "knr_pred"
   ]
  },
  {
   "cell_type": "code",
   "execution_count": 56,
   "id": "d7cb8d80",
   "metadata": {},
   "outputs": [
    {
     "name": "stdout",
     "output_type": "stream",
     "text": [
      "0.7214537671787029\n"
     ]
    }
   ],
   "source": [
    "score_knr = metrics.r2_score(Y_test, knr_pred)\n",
    "print(score_knr)"
   ]
  },
  {
   "cell_type": "markdown",
   "id": "a9e63058",
   "metadata": {},
   "source": [
    "# Decision Tree"
   ]
  },
  {
   "cell_type": "code",
   "execution_count": 57,
   "id": "d851539b",
   "metadata": {},
   "outputs": [
    {
     "data": {
      "text/html": [
       "<style>#sk-container-id-5 {color: black;background-color: white;}#sk-container-id-5 pre{padding: 0;}#sk-container-id-5 div.sk-toggleable {background-color: white;}#sk-container-id-5 label.sk-toggleable__label {cursor: pointer;display: block;width: 100%;margin-bottom: 0;padding: 0.3em;box-sizing: border-box;text-align: center;}#sk-container-id-5 label.sk-toggleable__label-arrow:before {content: \"▸\";float: left;margin-right: 0.25em;color: #696969;}#sk-container-id-5 label.sk-toggleable__label-arrow:hover:before {color: black;}#sk-container-id-5 div.sk-estimator:hover label.sk-toggleable__label-arrow:before {color: black;}#sk-container-id-5 div.sk-toggleable__content {max-height: 0;max-width: 0;overflow: hidden;text-align: left;background-color: #f0f8ff;}#sk-container-id-5 div.sk-toggleable__content pre {margin: 0.2em;color: black;border-radius: 0.25em;background-color: #f0f8ff;}#sk-container-id-5 input.sk-toggleable__control:checked~div.sk-toggleable__content {max-height: 200px;max-width: 100%;overflow: auto;}#sk-container-id-5 input.sk-toggleable__control:checked~label.sk-toggleable__label-arrow:before {content: \"▾\";}#sk-container-id-5 div.sk-estimator input.sk-toggleable__control:checked~label.sk-toggleable__label {background-color: #d4ebff;}#sk-container-id-5 div.sk-label input.sk-toggleable__control:checked~label.sk-toggleable__label {background-color: #d4ebff;}#sk-container-id-5 input.sk-hidden--visually {border: 0;clip: rect(1px 1px 1px 1px);clip: rect(1px, 1px, 1px, 1px);height: 1px;margin: -1px;overflow: hidden;padding: 0;position: absolute;width: 1px;}#sk-container-id-5 div.sk-estimator {font-family: monospace;background-color: #f0f8ff;border: 1px dotted black;border-radius: 0.25em;box-sizing: border-box;margin-bottom: 0.5em;}#sk-container-id-5 div.sk-estimator:hover {background-color: #d4ebff;}#sk-container-id-5 div.sk-parallel-item::after {content: \"\";width: 100%;border-bottom: 1px solid gray;flex-grow: 1;}#sk-container-id-5 div.sk-label:hover label.sk-toggleable__label {background-color: #d4ebff;}#sk-container-id-5 div.sk-serial::before {content: \"\";position: absolute;border-left: 1px solid gray;box-sizing: border-box;top: 0;bottom: 0;left: 50%;z-index: 0;}#sk-container-id-5 div.sk-serial {display: flex;flex-direction: column;align-items: center;background-color: white;padding-right: 0.2em;padding-left: 0.2em;position: relative;}#sk-container-id-5 div.sk-item {position: relative;z-index: 1;}#sk-container-id-5 div.sk-parallel {display: flex;align-items: stretch;justify-content: center;background-color: white;position: relative;}#sk-container-id-5 div.sk-item::before, #sk-container-id-5 div.sk-parallel-item::before {content: \"\";position: absolute;border-left: 1px solid gray;box-sizing: border-box;top: 0;bottom: 0;left: 50%;z-index: -1;}#sk-container-id-5 div.sk-parallel-item {display: flex;flex-direction: column;z-index: 1;position: relative;background-color: white;}#sk-container-id-5 div.sk-parallel-item:first-child::after {align-self: flex-end;width: 50%;}#sk-container-id-5 div.sk-parallel-item:last-child::after {align-self: flex-start;width: 50%;}#sk-container-id-5 div.sk-parallel-item:only-child::after {width: 0;}#sk-container-id-5 div.sk-dashed-wrapped {border: 1px dashed gray;margin: 0 0.4em 0.5em 0.4em;box-sizing: border-box;padding-bottom: 0.4em;background-color: white;}#sk-container-id-5 div.sk-label label {font-family: monospace;font-weight: bold;display: inline-block;line-height: 1.2em;}#sk-container-id-5 div.sk-label-container {text-align: center;}#sk-container-id-5 div.sk-container {/* jupyter's `normalize.less` sets `[hidden] { display: none; }` but bootstrap.min.css set `[hidden] { display: none !important; }` so we also need the `!important` here to be able to override the default hidden behavior on the sphinx rendered scikit-learn.org. See: https://github.com/scikit-learn/scikit-learn/issues/21755 */display: inline-block !important;position: relative;}#sk-container-id-5 div.sk-text-repr-fallback {display: none;}</style><div id=\"sk-container-id-5\" class=\"sk-top-container\"><div class=\"sk-text-repr-fallback\"><pre>DecisionTreeRegressor()</pre><b>In a Jupyter environment, please rerun this cell to show the HTML representation or trust the notebook. <br />On GitHub, the HTML representation is unable to render, please try loading this page with nbviewer.org.</b></div><div class=\"sk-container\" hidden><div class=\"sk-item\"><div class=\"sk-estimator sk-toggleable\"><input class=\"sk-toggleable__control sk-hidden--visually\" id=\"sk-estimator-id-5\" type=\"checkbox\" checked><label for=\"sk-estimator-id-5\" class=\"sk-toggleable__label sk-toggleable__label-arrow\">DecisionTreeRegressor</label><div class=\"sk-toggleable__content\"><pre>DecisionTreeRegressor()</pre></div></div></div></div></div>"
      ],
      "text/plain": [
       "DecisionTreeRegressor()"
      ]
     },
     "execution_count": 57,
     "metadata": {},
     "output_type": "execute_result"
    }
   ],
   "source": [
    "tree = DecisionTreeRegressor()\n",
    "tree.fit(X_train, Y_train)"
   ]
  },
  {
   "cell_type": "code",
   "execution_count": 58,
   "id": "44a97d89",
   "metadata": {},
   "outputs": [
    {
     "data": {
      "text/plain": [
       "array([3.62e+07, 5.50e+06, 7.00e+07, 2.60e+06, 2.40e+07, 1.16e+07,\n",
       "       6.50e+07, 2.90e+06, 1.00e+06, 2.25e+07, 2.00e+07, 9.50e+06,\n",
       "       6.00e+06, 1.74e+07, 1.15e+07, 1.55e+07, 1.60e+07, 1.49e+06,\n",
       "       1.49e+07, 1.16e+07, 1.20e+07, 7.70e+06, 7.25e+06, 2.00e+06,\n",
       "       1.42e+07, 6.50e+06, 2.49e+07, 6.00e+07, 1.00e+06, 4.40e+07,\n",
       "       6.25e+07, 7.00e+07, 3.15e+07, 4.00e+06, 9.00e+06, 2.50e+07,\n",
       "       1.15e+07, 4.00e+07, 1.42e+07, 8.00e+06, 3.10e+07, 4.00e+07,\n",
       "       3.70e+06, 3.80e+06, 1.65e+07, 8.25e+07, 4.40e+06, 7.00e+06,\n",
       "       2.31e+07, 1.60e+06, 3.70e+06, 1.35e+07, 2.55e+07, 1.48e+07,\n",
       "       3.10e+06, 2.40e+06, 1.85e+07, 2.40e+08, 8.50e+06, 5.00e+06,\n",
       "       4.20e+06, 6.50e+07, 1.70e+07, 1.25e+07, 2.10e+06, 3.60e+06,\n",
       "       1.80e+06, 3.50e+07, 4.50e+07, 1.03e+07, 6.30e+06, 1.28e+07,\n",
       "       3.10e+06, 6.25e+07, 1.00e+07, 1.28e+07, 1.42e+07, 2.40e+06,\n",
       "       1.32e+07, 4.50e+06, 6.00e+06, 8.00e+07, 8.00e+07, 2.40e+06,\n",
       "       6.80e+06, 1.03e+07, 2.70e+06, 2.60e+07, 4.50e+06, 1.90e+07,\n",
       "       4.75e+07, 1.70e+06, 1.30e+07, 3.00e+06, 4.40e+06, 7.70e+06,\n",
       "       3.50e+06, 1.20e+07, 4.40e+07, 6.50e+06, 6.00e+07, 1.00e+07,\n",
       "       7.80e+06, 1.56e+07, 1.74e+07, 7.25e+07, 1.70e+06, 1.60e+06,\n",
       "       7.25e+07, 3.50e+07, 7.50e+07, 1.35e+08, 1.70e+08, 1.38e+07,\n",
       "       3.80e+06, 1.14e+07, 9.00e+07, 3.00e+07, 1.16e+07, 6.30e+07,\n",
       "       3.50e+06, 2.65e+06, 1.90e+07, 5.00e+07, 4.00e+07, 6.50e+07,\n",
       "       7.90e+07, 2.45e+07, 1.75e+07, 1.05e+07, 1.50e+07, 6.00e+06,\n",
       "       6.00e+06, 9.00e+06, 9.80e+06, 1.10e+07, 2.49e+07, 1.00e+07,\n",
       "       1.70e+07, 1.72e+07, 3.50e+06, 1.03e+07, 4.15e+07, 1.35e+07,\n",
       "       1.15e+07, 1.03e+07, 1.10e+07, 3.20e+06, 2.40e+07, 1.25e+07,\n",
       "       3.50e+06, 1.00e+07, 4.20e+06, 5.00e+06, 1.30e+07, 1.50e+07,\n",
       "       1.85e+07, 3.10e+06, 1.08e+07, 1.60e+06, 3.15e+07, 2.09e+07,\n",
       "       1.14e+07, 2.25e+07, 3.50e+06, 5.50e+06, 2.50e+07, 4.00e+07,\n",
       "       1.70e+08, 1.95e+07, 1.20e+07, 1.25e+07, 5.60e+07, 1.60e+07,\n",
       "       2.20e+06, 3.15e+07, 2.55e+07, 1.00e+06, 1.75e+07, 7.00e+06,\n",
       "       6.00e+07, 6.20e+06, 7.80e+06, 2.50e+07, 1.10e+08, 2.25e+07,\n",
       "       2.50e+06, 4.60e+06, 3.30e+06, 1.08e+07, 5.00e+07, 2.40e+08,\n",
       "       8.77e+06, 3.15e+07, 2.75e+07, 6.30e+06, 6.50e+06, 9.00e+07,\n",
       "       3.75e+07, 3.50e+06, 3.50e+07, 2.25e+07, 2.30e+07, 1.49e+07,\n",
       "       1.60e+06, 4.80e+06, 3.60e+07, 1.50e+07, 1.75e+07, 1.36e+07,\n",
       "       7.10e+07, 3.50e+06, 2.10e+07, 7.37e+07, 9.80e+06, 9.80e+06,\n",
       "       4.75e+07, 2.40e+07, 3.62e+07, 7.70e+06, 7.70e+06, 5.90e+06,\n",
       "       2.05e+07, 1.80e+06])"
      ]
     },
     "execution_count": 58,
     "metadata": {},
     "output_type": "execute_result"
    }
   ],
   "source": [
    "tree_prd = tree.predict(X_test)\n",
    "tree_prd"
   ]
  },
  {
   "cell_type": "code",
   "execution_count": 59,
   "id": "01946626",
   "metadata": {},
   "outputs": [
    {
     "name": "stdout",
     "output_type": "stream",
     "text": [
      "0.5102684342734705\n"
     ]
    }
   ],
   "source": [
    "score_tree = metrics.r2_score(Y_test, tree_prd)\n",
    "print(score_tree)"
   ]
  },
  {
   "cell_type": "markdown",
   "id": "d4cd122a",
   "metadata": {},
   "source": [
    "# Comparing the best algorithm"
   ]
  },
  {
   "cell_type": "code",
   "execution_count": 60,
   "id": "43a54f06",
   "metadata": {},
   "outputs": [],
   "source": [
    "algorithms = [\"Linear Regression\", \"Random Forest\", \"XG Boost\", \"K-Nearest Neighbour\", \"Decision tree\"]\n",
    "scores = [score_lnr, score_rf, score_xgb, score_knr, score_tree] "
   ]
  },
  {
   "cell_type": "code",
   "execution_count": 61,
   "id": "94a1f63f",
   "metadata": {},
   "outputs": [
    {
     "data": {
      "image/png": "[encoded data removed]",
      "text/plain": [
       "<Figure size 1000x1000 with 1 Axes>"
      ]
     },
     "metadata": {},
     "output_type": "display_data"
    }
   ],
   "source": [
    "plt.figure(figsize=(10, 10))  # Adjust the figure size as needed\n",
    "\n",
    "# Create the bar chart\n",
    "plt.bar(algorithms, scores, color='skyblue')\n",
    "plt.xlabel('Algorithms')\n",
    "plt.ylabel('Score')\n",
    "plt.title('Machine Learning Algorithm comparision')\n",
    "plt.show()\n"
   ]
  },
  {
   "cell_type": "markdown",
   "id": "920f1463",
   "metadata": {},
   "source": [
    "# Model Prediction"
   ]
  },
  {
   "cell_type": "code",
   "execution_count": 62,
   "id": "b4dfabd9",
   "metadata": {},
   "outputs": [],
   "source": [
    "import joblib as jb"
   ]
  },
  {
   "cell_type": "code",
   "execution_count": 63,
   "id": "11008208",
   "metadata": {},
   "outputs": [
    {
     "data": {
      "text/plain": [
       "['House_Price_Predict']"
      ]
     },
     "execution_count": 63,
     "metadata": {},
     "output_type": "execute_result"
    }
   ],
   "source": [
    "jb.dump(xgb,'House_Price_Predict')"
   ]
  },
  {
   "cell_type": "code",
   "execution_count": 64,
   "id": "4520fca9",
   "metadata": {},
   "outputs": [],
   "source": [
    "model = jb.load(\"House_Price_Predict\")"
   ]
  },
  {
   "cell_type": "code",
   "execution_count": 65,
   "id": "3886060a",
   "metadata": {},
   "outputs": [
    {
     "data": {
      "text/plain": [
       "Index(['Area', 'BHK', 'Bathroom', 'Furnishing', 'Parking', 'Price', 'Status',\n",
       "       'Transaction', 'Type', 'Per_Sqft'],\n",
       "      dtype='object')"
      ]
     },
     "execution_count": 65,
     "metadata": {},
     "output_type": "execute_result"
    }
   ],
   "source": [
    "data.columns"
   ]
  },
  {
   "cell_type": "code",
   "execution_count": 66,
   "id": "a15ed776",
   "metadata": {},
   "outputs": [
    {
     "data": {
      "text/html": [
       "<div>\n",
       "<style scoped>\n",
       "    .dataframe tbody tr th:only-of-type {\n",
       "        vertical-align: middle;\n",
       "    }\n",
       "\n",
       "    .dataframe tbody tr th {\n",
       "        vertical-align: top;\n",
       "    }\n",
       "\n",
       "    .dataframe thead th {\n",
       "        text-align: right;\n",
       "    }\n",
       "</style>\n",
       "<table border=\"1\" class=\"dataframe\">\n",
       "  <thead>\n",
       "    <tr style=\"text-align: right;\">\n",
       "      <th></th>\n",
       "      <th>Area</th>\n",
       "      <th>BHK</th>\n",
       "      <th>Bathroom</th>\n",
       "      <th>Furnishing</th>\n",
       "      <th>Parking</th>\n",
       "      <th>Price</th>\n",
       "      <th>Status</th>\n",
       "      <th>Transaction</th>\n",
       "      <th>Type</th>\n",
       "      <th>Per_Sqft</th>\n",
       "    </tr>\n",
       "  </thead>\n",
       "  <tbody>\n",
       "    <tr>\n",
       "      <th>0</th>\n",
       "      <td>800.0</td>\n",
       "      <td>3</td>\n",
       "      <td>2.0</td>\n",
       "      <td>1</td>\n",
       "      <td>1.0</td>\n",
       "      <td>6500000</td>\n",
       "      <td>1</td>\n",
       "      <td>1</td>\n",
       "      <td>0</td>\n",
       "      <td>11111.0</td>\n",
       "    </tr>\n",
       "    <tr>\n",
       "      <th>1</th>\n",
       "      <td>750.0</td>\n",
       "      <td>2</td>\n",
       "      <td>2.0</td>\n",
       "      <td>1</td>\n",
       "      <td>1.0</td>\n",
       "      <td>5000000</td>\n",
       "      <td>1</td>\n",
       "      <td>1</td>\n",
       "      <td>1</td>\n",
       "      <td>6667.0</td>\n",
       "    </tr>\n",
       "    <tr>\n",
       "      <th>2</th>\n",
       "      <td>950.0</td>\n",
       "      <td>2</td>\n",
       "      <td>2.0</td>\n",
       "      <td>2</td>\n",
       "      <td>1.0</td>\n",
       "      <td>15500000</td>\n",
       "      <td>1</td>\n",
       "      <td>0</td>\n",
       "      <td>1</td>\n",
       "      <td>6667.0</td>\n",
       "    </tr>\n",
       "    <tr>\n",
       "      <th>3</th>\n",
       "      <td>600.0</td>\n",
       "      <td>2</td>\n",
       "      <td>2.0</td>\n",
       "      <td>1</td>\n",
       "      <td>1.0</td>\n",
       "      <td>4200000</td>\n",
       "      <td>1</td>\n",
       "      <td>0</td>\n",
       "      <td>0</td>\n",
       "      <td>6667.0</td>\n",
       "    </tr>\n",
       "    <tr>\n",
       "      <th>4</th>\n",
       "      <td>650.0</td>\n",
       "      <td>2</td>\n",
       "      <td>2.0</td>\n",
       "      <td>1</td>\n",
       "      <td>1.0</td>\n",
       "      <td>6200000</td>\n",
       "      <td>1</td>\n",
       "      <td>1</td>\n",
       "      <td>0</td>\n",
       "      <td>6667.0</td>\n",
       "    </tr>\n",
       "  </tbody>\n",
       "</table>\n",
       "</div>"
      ],
      "text/plain": [
       "    Area  BHK  Bathroom  Furnishing  Parking     Price  Status  Transaction  \\\n",
       "0  800.0    3       2.0           1      1.0   6500000       1            1   \n",
       "1  750.0    2       2.0           1      1.0   5000000       1            1   \n",
       "2  950.0    2       2.0           2      1.0  15500000       1            0   \n",
       "3  600.0    2       2.0           1      1.0   4200000       1            0   \n",
       "4  650.0    2       2.0           1      1.0   6200000       1            1   \n",
       "\n",
       "   Type  Per_Sqft  \n",
       "0     0   11111.0  \n",
       "1     1    6667.0  \n",
       "2     1    6667.0  \n",
       "3     0    6667.0  \n",
       "4     0    6667.0  "
      ]
     },
     "execution_count": 66,
     "metadata": {},
     "output_type": "execute_result"
    }
   ],
   "source": [
    "data.head()"
   ]
  },
  {
   "cell_type": "code",
   "execution_count": 67,
   "id": "792881b6",
   "metadata": {},
   "outputs": [],
   "source": [
    "import pandas as pd\n",
    "df = pd.DataFrame({\n",
    "    'Area':600.0,\n",
    "    'BHK':2,\n",
    "    'Bathroom':2.0,\n",
    "    'Furnishing':1,\n",
    "    'Parking':1.0,\n",
    "    'Status':1,\n",
    "    'Transaction':0,\n",
    "    'Type':0,\n",
    "    'Per_Sqft':6667.0,\n",
    "},index=[0])"
   ]
  },
  {
   "cell_type": "code",
   "execution_count": 68,
   "id": "ba85866e",
   "metadata": {},
   "outputs": [
    {
     "data": {
      "text/html": [
       "<div>\n",
       "<style scoped>\n",
       "    .dataframe tbody tr th:only-of-type {\n",
       "        vertical-align: middle;\n",
       "    }\n",
       "\n",
       "    .dataframe tbody tr th {\n",
       "        vertical-align: top;\n",
       "    }\n",
       "\n",
       "    .dataframe thead th {\n",
       "        text-align: right;\n",
       "    }\n",
       "</style>\n",
       "<table border=\"1\" class=\"dataframe\">\n",
       "  <thead>\n",
       "    <tr style=\"text-align: right;\">\n",
       "      <th></th>\n",
       "      <th>Area</th>\n",
       "      <th>BHK</th>\n",
       "      <th>Bathroom</th>\n",
       "      <th>Furnishing</th>\n",
       "      <th>Parking</th>\n",
       "      <th>Status</th>\n",
       "      <th>Transaction</th>\n",
       "      <th>Type</th>\n",
       "      <th>Per_Sqft</th>\n",
       "    </tr>\n",
       "  </thead>\n",
       "  <tbody>\n",
       "    <tr>\n",
       "      <th>0</th>\n",
       "      <td>600.0</td>\n",
       "      <td>2</td>\n",
       "      <td>2.0</td>\n",
       "      <td>1</td>\n",
       "      <td>1.0</td>\n",
       "      <td>1</td>\n",
       "      <td>0</td>\n",
       "      <td>0</td>\n",
       "      <td>6667.0</td>\n",
       "    </tr>\n",
       "  </tbody>\n",
       "</table>\n",
       "</div>"
      ],
      "text/plain": [
       "    Area  BHK  Bathroom  Furnishing  Parking  Status  Transaction  Type  \\\n",
       "0  600.0    2       2.0           1      1.0       1            0     0   \n",
       "\n",
       "   Per_Sqft  \n",
       "0    6667.0  "
      ]
     },
     "execution_count": 68,
     "metadata": {},
     "output_type": "execute_result"
    }
   ],
   "source": [
    "df"
   ]
  },
  {
   "cell_type": "code",
   "execution_count": 69,
   "id": "b33a11f3",
   "metadata": {},
   "outputs": [],
   "source": [
    "result = model.predict(df)"
   ]
  },
  {
   "cell_type": "code",
   "execution_count": 70,
   "id": "2aec096e",
   "metadata": {},
   "outputs": [
    {
     "name": "stdout",
     "output_type": "stream",
     "text": [
      "The price of your house will approximately = Rs. [4986714.]\n"
     ]
    }
   ],
   "source": [
    "print(\"The price of your house will approximately = Rs.\", result.round())"
   ]
  },
  {
   "cell_type": "code",
   "execution_count": null,
   "id": "7f6eb8be",
   "metadata": {},
   "outputs": [],
   "source": []
  }
 ],
 "metadata": {
  "kernelspec": {
   "display_name": "Python 3 (ipykernel)",
   "language": "python",
   "name": "python3"
  },
  "language_info": {
   "codemirror_mode": {
    "name": "ipython",
    "version": 3
   },
   "file_extension": ".py",
   "mimetype": "text/x-python",
   "name": "python",
   "nbconvert_exporter": "python",
   "pygments_lexer": "ipython3",
   "version": "3.10.9"
  }
 },
 "nbformat": 4,
 "nbformat_minor": 5
}
